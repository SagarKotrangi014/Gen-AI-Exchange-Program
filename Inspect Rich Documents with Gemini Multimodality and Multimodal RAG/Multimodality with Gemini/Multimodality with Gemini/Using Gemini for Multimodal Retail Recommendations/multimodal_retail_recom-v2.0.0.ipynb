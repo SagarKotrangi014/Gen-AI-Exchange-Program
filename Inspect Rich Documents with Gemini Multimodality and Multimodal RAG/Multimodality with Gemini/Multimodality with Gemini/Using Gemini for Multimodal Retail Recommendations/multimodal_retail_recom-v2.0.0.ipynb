{
 "cells": [
  {
   "cell_type": "code",
   "execution_count": null,
   "metadata": {
    "id": "ijGzTHJJUCPY",
    "tags": []
   },
   "outputs": [],
   "source": [
    "# Copyright 2023 Google LLC\n",
    "#\n",
    "# Licensed under the Apache License, Version 2.0 (the \"License\");\n",
    "# you may not use this file except in compliance with the License.\n",
    "# You may obtain a copy of the License at\n",
    "#\n",
    "#     https://www.apache.org/licenses/LICENSE-2.0\n",
    "#\n",
    "# Unless required by applicable law or agreed to in writing, software\n",
    "# distributed under the License is distributed on an \"AS IS\" BASIS,\n",
    "# WITHOUT WARRANTIES OR CONDITIONS OF ANY KIND, either express or implied.\n",
    "# See the License for the specific language governing permissions and\n",
    "# limitations under the License."
   ]
  },
  {
   "cell_type": "markdown",
   "metadata": {
    "id": "VEqbX8OhE8y9"
   },
   "source": [
    "# Multimodal retail recommendation: Using Gemini to recommend items based on images and image reasoning\n",
    "\n",
    "<table align=\"left\">\n",
    "  <td style=\"text-align: center\">\n",
    "    <a href=\"https://colab.research.google.com/github/GoogleCloudPlatform/generative-ai/blob/main/gemini/use-cases/retail/multimodal_retail_recommendations.ipynb\">\n",
    "      <img src=\"https://cloud.google.com/ml-engine/images/colab-logo-32px.png\" alt=\"Google Colaboratory logo\"><br> Run in Colab\n",
    "    </a>\n",
    "  </td>\n",
    "  <td style=\"text-align: center\">\n",
    "    <a href=\"https://console.cloud.google.com/vertex-ai/colab/import/https:%2F%2Fraw.githubusercontent.com%2FGoogleCloudPlatform%2Fgenerative-ai%2Fmain%2Fgemini%2Fuse-cases%2Fretail%2Fmultimodal_retail_recommendations.ipynb\">\n",
    "      <img width=\"32px\" src=\"https://lh3.googleusercontent.com/JmcxdQi-qOpctIvWKgPtrzZdJJK-J3sWE1RsfjZNwshCFgE_9fULcNpuXYTilIR2hjwN\" alt=\"Google Cloud Colab Enterprise logo\"><br> Run in Colab Enterprise\n",
    "    </a>\n",
    "  </td>\n",
    "  <td style=\"text-align: center\">\n",
    "    <a href=\"https://console.cloud.google.com/vertex-ai/workbench/deploy-notebook?download_url=https://raw.githubusercontent.com/GoogleCloudPlatform/generative-ai/main/gemini/use-cases/retail/multimodal_retail_recommendations.ipynb\">\n",
    "      <img src=\"https://lh3.googleusercontent.com/UiNooY4LUgW_oTvpsNhPpQzsstV5W8F7rYgxgGBD85cWJoLmrOzhVs_ksK_vgx40SHs7jCqkTkCk=e14-rj-sc0xffffff-h130-w32\" alt=\"Vertex AI logo\"><br> Open in Vertex AI Workbench\n",
    "    </a>\n",
    "  </td>\n",
    "  <td style=\"text-align: center\">\n",
    "    <a href=\"https://github.com/GoogleCloudPlatform/generative-ai/blob/main/gemini/use-cases/retail/multimodal_retail_recommendations.ipynb\">\n",
    "      <img src=\"https://cloud.google.com/ml-engine/images/github-logo-32px.png\" alt=\"GitHub logo\"><br> View on GitHub\n",
    "    </a>\n",
    "  </td>\n",
    "  <td style=\"text-align: center\">\n",
    "    <a href=\"https://goo.gle/4fX5Ige\">\n",
    "      <img width=\"32px\" src=\"https://cdn.qwiklabs.com/assets/gcp_cloud-e3a77215f0b8bfa9b3f611c0d2208c7e8708ed31.svg\" alt=\"Google Cloud logo\"><br> Open in  Cloud Skills Boost\n",
    "    </a>\n",
    "  </td>\n",
    "</table>\n",
    "\n",
    "<div style=\"clear: both;\"></div>\n",
    "\n",
    "<b>Share to:</b>\n",
    "\n",
    "<a href=\"https://www.linkedin.com/sharing/share-offsite/?url=https%3A//github.com/GoogleCloudPlatform/generative-ai/blob/main/gemini/use-cases/retail/multimodal_retail_recommendations.ipynb\" target=\"_blank\">\n",
    "  <img width=\"20px\" src=\"https://upload.wikimedia.org/wikipedia/commons/8/81/LinkedIn_icon.svg\" alt=\"LinkedIn logo\">\n",
    "</a>\n",
    "\n",
    "<a href=\"https://bsky.app/intent/compose?text=https%3A//github.com/GoogleCloudPlatform/generative-ai/blob/main/gemini/use-cases/retail/multimodal_retail_recommendations.ipynb\" target=\"_blank\">\n",
    "  <img width=\"20px\" src=\"https://upload.wikimedia.org/wikipedia/commons/7/7a/Bluesky_Logo.svg\" alt=\"Bluesky logo\">\n",
    "</a>\n",
    "\n",
    "<a href=\"https://twitter.com/intent/tweet?url=https%3A//github.com/GoogleCloudPlatform/generative-ai/blob/main/gemini/use-cases/retail/multimodal_retail_recommendations.ipynb\" target=\"_blank\">\n",
    "  <img width=\"20px\" src=\"https://upload.wikimedia.org/wikipedia/commons/5/5a/X_icon_2.svg\" alt=\"X logo\">\n",
    "</a>\n",
    "\n",
    "<a href=\"https://reddit.com/submit?url=https%3A//github.com/GoogleCloudPlatform/generative-ai/blob/main/gemini/use-cases/retail/multimodal_retail_recommendations.ipynb\" target=\"_blank\">\n",
    "  <img width=\"20px\" src=\"https://redditinc.com/hubfs/Reddit%20Inc/Brand/Reddit_Logo.png\" alt=\"Reddit logo\">\n",
    "</a>\n",
    "\n",
    "<a href=\"https://www.facebook.com/sharer/sharer.php?u=https%3A//github.com/GoogleCloudPlatform/generative-ai/blob/main/gemini/use-cases/retail/multimodal_retail_recommendations.ipynb\" target=\"_blank\">\n",
    "  <img width=\"20px\" src=\"https://upload.wikimedia.org/wikipedia/commons/5/51/Facebook_f_logo_%282019%29.svg\" alt=\"Facebook logo\">\n",
    "</a>            \n"
   ]
  },
  {
   "cell_type": "markdown",
   "metadata": {
    "id": "048a84091064"
   },
   "source": [
    "| | |\n",
    "|-|-|\n",
    "|Author(s) | [Thu Ya Kyaw](https://github.com/iamthuya) |"
   ]
  },
  {
   "cell_type": "markdown",
   "metadata": {
    "id": "VK1Q5ZYdVL4Y"
   },
   "source": [
    "## Overview\n",
    "\n",
    "For retail companies, recommendation systems improve customer experience and thus can increase sales.\n",
    "\n",
    "This notebook shows how you can use the multimodal capabilities of Gemini 2.0 model to rapidly create a multimodal recommendation system out-of-the-box."
   ]
  },
  {
   "cell_type": "markdown",
   "metadata": {
    "id": "3zLxCZkKEAhC"
   },
   "source": [
    "## Scenario\n",
    "\n",
    "The customer shows you their living room:\n",
    "\n",
    "|Customer photo |\n",
    "|:-----:|\n",
    "|<img src=\"https://storage.googleapis.com/github-repo/img/gemini/retail-recommendations/rooms/spacejoy-c0JoR_-2x3E-unsplash.jpg\" width=\"80%\">  |\n",
    "\n",
    "\n",
    "\n",
    "Below are four chair options that the customer is trying to decide between:\n",
    "\n",
    "|Chair 1| Chair 2 | Chair 3 | Chair 4 |\n",
    "|:-----:|:----:|:-----:|:----:|\n",
    "| <img src=\"https://storage.googleapis.com/github-repo/img/gemini/retail-recommendations/furnitures/cesar-couto-OB2F6CsMva8-unsplash.jpg\" width=\"80%\">|<img src=\"https://storage.googleapis.com/github-repo/img/gemini/retail-recommendations/furnitures/daniil-silantev-1P6AnKDw6S8-unsplash.jpg\" width=\"80%\">|<img src=\"https://storage.googleapis.com/github-repo/img/gemini/retail-recommendations/furnitures/ruslan-bardash-4kTbAMRAHtQ-unsplash.jpg\" width=\"80%\">|<img src=\"https://storage.googleapis.com/github-repo/img/gemini/retail-recommendations/furnitures/scopic-ltd-NLlWwR4d3qU-unsplash.jpg\" width=\"80%\">|\n",
    "\n",
    "\n",
    "How can you use Gemini, a multimodal model, to help the customer choose the best option, and also explain why?"
   ]
  },
  {
   "cell_type": "markdown",
   "metadata": {
    "id": "RQT500QqVPIb"
   },
   "source": [
    "### Objectives\n",
    "\n",
    "Your main objective is to learn how to create a recommendation system that can provide both recommendations and explanations using a multimodal model: Gemini 2.0.\n",
    "\n",
    "In this notebook, you will begin with a scene (e.g. a living room) and use the Gemini model to perform visual understanding. You will also investigate how the Gemini model can be used to recommend an item (e.g. a chair) from a list of furniture items as input.\n",
    "\n",
    "By going through this notebook, you will learn:\n",
    "- how to use the Gemini model to perform visual understanding\n",
    "- how to take multimodality into consideration in prompting for the Gemini model\n",
    "- how the Gemini model can be used to create retail recommendation applications out-of-the-box"
   ]
  },
  {
   "cell_type": "markdown",
   "metadata": {
    "id": "1y6_3dTwV2fI"
   },
   "source": [
    "### Costs\n",
    "This tutorial uses billable components of Google Cloud:\n",
    "\n",
    "- Vertex AI\n",
    "\n",
    "Learn about [Vertex AI pricing](https://cloud.google.com/vertex-ai/pricing) and use the [Pricing Calculator](https://cloud.google.com/products/calculator/) to generate a cost estimate based on your projected usage."
   ]
  },
  {
   "cell_type": "markdown",
   "metadata": {
    "id": "QDU0XJ1xRDlL"
   },
   "source": [
    "## Getting Started"
   ]
  },
  {
   "cell_type": "markdown",
   "metadata": {
    "id": "N5afkyDMSBW5"
   },
   "source": [
    "### Install Gen AI SDK for Python"
   ]
  },
  {
   "cell_type": "code",
   "execution_count": null,
   "metadata": {
    "id": "V_-ThW_ZUYRV",
    "tags": []
   },
   "outputs": [
    {
     "name": "stdout",
     "output_type": "stream",
     "text": [
      "Requirement already satisfied: google-genai in /opt/conda/lib/python3.10/site-packages (1.11.0)\n",
      "Requirement already satisfied: anyio<5.0.0,>=4.8.0 in /opt/conda/lib/python3.10/site-packages (from google-genai) (4.9.0)\n",
      "Requirement already satisfied: google-auth<3.0.0,>=2.14.1 in /opt/conda/lib/python3.10/site-packages (from google-genai) (2.38.0)\n",
      "Requirement already satisfied: httpx<1.0.0,>=0.28.1 in /opt/conda/lib/python3.10/site-packages (from google-genai) (0.28.1)\n",
      "Requirement already satisfied: pydantic<3.0.0,>=2.0.0 in /opt/conda/lib/python3.10/site-packages (from google-genai) (2.11.0)\n",
      "Requirement already satisfied: requests<3.0.0,>=2.28.1 in /opt/conda/lib/python3.10/site-packages (from google-genai) (2.32.3)\n",
      "Requirement already satisfied: websockets<15.1.0,>=13.0.0 in /opt/conda/lib/python3.10/site-packages (from google-genai) (15.0.1)\n",
      "Requirement already satisfied: typing-extensions<5.0.0,>=4.11.0 in /opt/conda/lib/python3.10/site-packages (from google-genai) (4.13.0)\n",
      "Requirement already satisfied: exceptiongroup>=1.0.2 in /opt/conda/lib/python3.10/site-packages (from anyio<5.0.0,>=4.8.0->google-genai) (1.2.2)\n",
      "Requirement already satisfied: idna>=2.8 in /opt/conda/lib/python3.10/site-packages (from anyio<5.0.0,>=4.8.0->google-genai) (3.10)\n",
      "Requirement already satisfied: sniffio>=1.1 in /opt/conda/lib/python3.10/site-packages (from anyio<5.0.0,>=4.8.0->google-genai) (1.3.1)\n",
      "Requirement already satisfied: cachetools<6.0,>=2.0.0 in /opt/conda/lib/python3.10/site-packages (from google-auth<3.0.0,>=2.14.1->google-genai) (5.5.2)\n",
      "Requirement already satisfied: pyasn1-modules>=0.2.1 in /opt/conda/lib/python3.10/site-packages (from google-auth<3.0.0,>=2.14.1->google-genai) (0.4.2)\n",
      "Requirement already satisfied: rsa<5,>=3.1.4 in /opt/conda/lib/python3.10/site-packages (from google-auth<3.0.0,>=2.14.1->google-genai) (4.9)\n",
      "Requirement already satisfied: certifi in /opt/conda/lib/python3.10/site-packages (from httpx<1.0.0,>=0.28.1->google-genai) (2025.1.31)\n",
      "Requirement already satisfied: httpcore==1.* in /opt/conda/lib/python3.10/site-packages (from httpx<1.0.0,>=0.28.1->google-genai) (1.0.8)\n",
      "Requirement already satisfied: h11<0.15,>=0.13 in /opt/conda/lib/python3.10/site-packages (from httpcore==1.*->httpx<1.0.0,>=0.28.1->google-genai) (0.14.0)\n",
      "Requirement already satisfied: annotated-types>=0.6.0 in /opt/conda/lib/python3.10/site-packages (from pydantic<3.0.0,>=2.0.0->google-genai) (0.7.0)\n",
      "Requirement already satisfied: pydantic-core==2.33.0 in /opt/conda/lib/python3.10/site-packages (from pydantic<3.0.0,>=2.0.0->google-genai) (2.33.0)\n",
      "Requirement already satisfied: typing-inspection>=0.4.0 in /opt/conda/lib/python3.10/site-packages (from pydantic<3.0.0,>=2.0.0->google-genai) (0.4.0)\n",
      "Requirement already satisfied: charset_normalizer<4,>=2 in /opt/conda/lib/python3.10/site-packages (from requests<3.0.0,>=2.28.1->google-genai) (3.4.1)\n",
      "Requirement already satisfied: urllib3<3,>=1.21.1 in /opt/conda/lib/python3.10/site-packages (from requests<3.0.0,>=2.28.1->google-genai) (1.26.20)\n",
      "Requirement already satisfied: pyasn1<0.7.0,>=0.6.1 in /opt/conda/lib/python3.10/site-packages (from pyasn1-modules>=0.2.1->google-auth<3.0.0,>=2.14.1->google-genai) (0.6.1)\n",
      "Note: you may need to restart the kernel to use updated packages.\n"
     ]
    }
   ],
   "source": [
    "%pip install --upgrade google-genai"
   ]
  },
  {
   "cell_type": "markdown",
   "metadata": {},
   "source": [
    "### Restart current runtime\n",
    "\n",
    "To use the newly installed packages in this Jupyter runtime, you must restart the runtime. You can do this by running the cell below, which will restart the current kernel."
   ]
  },
  {
   "cell_type": "code",
   "execution_count": null,
   "metadata": {
    "tags": []
   },
   "outputs": [
    {
     "data": {
      "text/plain": [
       "{'status': 'ok', 'restart': True}"
      ]
     },
     "execution_count": 3,
     "metadata": {},
     "output_type": "execute_result"
    }
   ],
   "source": [
    "# Restart kernel after installs so that your environment can access the new packages\n",
    "import IPython\n",
    "\n",
    "app = IPython.Application.instance()\n",
    "app.kernel.do_shutdown(True)"
   ]
  },
  {
   "cell_type": "markdown",
   "metadata": {},
   "source": [
    "<div class=\"alert alert-block alert-warning\">\n",
    "<b>⚠️ The kernel is going to restart. Please wait until it is finished before continuing to the next step. ⚠️</b>\n",
    "</div>"
   ]
  },
  {
   "cell_type": "markdown",
   "metadata": {
    "id": "6Fom0ZkMSBW6"
   },
   "source": [
    "### Authenticate your notebook environment (Colab only)\n",
    "\n",
    "If you are running this notebook on Google Colab, run the following cell to authenticate your environment. This step is not required if you are using [Vertex AI Workbench](https://cloud.google.com/vertex-ai-workbench)."
   ]
  },
  {
   "cell_type": "code",
   "execution_count": null,
   "metadata": {
    "id": "LCaCx6PLSBW6",
    "tags": []
   },
   "outputs": [],
   "source": [
    "import sys\n",
    "\n",
    "# Additional authentication is required for Google Colab\n",
    "if \"google.colab\" in sys.modules:\n",
    "    # Authenticate user to Google Cloud\n",
    "    from google.colab import auth\n",
    "\n",
    "    auth.authenticate_user()"
   ]
  },
  {
   "cell_type": "markdown",
   "metadata": {
    "id": "BuQwwRiniVFG"
   },
   "source": [
    "### Define Google Cloud project information and initialize Vertex AI\n",
    "\n",
    "Initialize the Vertex AI SDK for Python for your project:"
   ]
  },
  {
   "cell_type": "code",
   "execution_count": null,
   "metadata": {
    "id": "rtMowvm-yQ97",
    "tags": []
   },
   "outputs": [],
   "source": [
    "# Define project information\n",
    "PROJECT_ID = \"qwiklabs-gcp-01-040c52e932c0\"  # @param {type:\"string\"}\n",
    "LOCATION = \"us-east4\"  # @param {type:\"string\"}\n",
    "\n",
    "# Create the API client\n",
    "from google import genai\n",
    "client = genai.Client(vertexai=True, project=PROJECT_ID, location=LOCATION)"
   ]
  },
  {
   "cell_type": "markdown",
   "metadata": {
    "id": "4437b7608c8e"
   },
   "source": [
    "### Import libraries"
   ]
  },
  {
   "cell_type": "code",
   "execution_count": null,
   "metadata": {
    "id": "yZ75ioBU9EwM",
    "tags": []
   },
   "outputs": [],
   "source": [
    "from google.genai.types import GenerateContentConfig, Part"
   ]
  },
  {
   "cell_type": "markdown",
   "metadata": {
    "id": "hhcZv4HFUYRW"
   },
   "source": [
    "## Using Gemini  model\n",
    "\n",
    "Gemini is a multimodal model that supports adding image and video in text or chat prompts for a text response."
   ]
  },
  {
   "cell_type": "markdown",
   "metadata": {
    "id": "ExdEEGUqUYRW"
   },
   "source": [
    "### Load Gemini model"
   ]
  },
  {
   "cell_type": "code",
   "execution_count": null,
   "metadata": {
    "id": "pxlvLmncUYRW",
    "tags": []
   },
   "outputs": [],
   "source": [
    "MODEL_ID = \"gemini-2.0-flash\""
   ]
  },
  {
   "cell_type": "markdown",
   "metadata": {
    "id": "MONqa2K8IjSz"
   },
   "source": [
    "### Visual understanding with Gemini\n",
    "\n",
    "Here you will ask the Gemini model to describe a room in details from its image. To do that you have to **combine text and image in a single prompt**."
   ]
  },
  {
   "cell_type": "code",
   "execution_count": null,
   "metadata": {
    "id": "26wP-epVFBBK",
    "tags": []
   },
   "outputs": [
    {
     "name": "stdout",
     "output_type": "stream",
     "text": [
      "\n",
      "-------Response--------\n",
      "The room is bright and airy, decorated in a neutral color palette. The walls are a soft off-white, which creates a calming and inviting atmosphere. \n",
      "\n",
      "In terms of furniture, there's a light gray sofa with several pillows, including a textured one and a white one. A cozy beige throw blanket is draped over the back of the sofa. In front of the sofa, there's a round white coffee table with wooden legs. On the table, there are decorative objects like a white vase and a bowl.\n",
      "\n",
      "To the left, there's a cream-colored armchair with a round, matching ottoman. A fluffy, faux fur rug is partially visible beneath the chair. Next to the sofa, there's a tall white vase filled with dried pampas grass.\n",
      "\n",
      "On the wall behind the sofa, there are two circular mirrors with woven raffia or straw frames, adding a bohemian touch. To the right, there is a standing lamp with a linen shade and a wicker basket at its base. A large, woven rug covers most of the floor. The overall aesthetic is modern, minimalist, and comfortable. The wooden floors add a touch of warmth to the room.\n"
     ]
    }
   ],
   "source": [
    "# urls for room images\n",
    "room_image_url = \"https://storage.googleapis.com/github-repo/img/gemini/retail-recommendations/rooms/spacejoy-c0JoR_-2x3E-unsplash.jpg\"\n",
    "room_image = Part.from_uri(file_uri=room_image_url, mime_type=\"image/jpeg\")\n",
    "\n",
    "prompt = \"Describe what's visible in this room and the overall atmosphere:\"\n",
    "contents = [\n",
    "    room_image,\n",
    "    prompt,\n",
    "]\n",
    "\n",
    "responses = client.models.generate_content_stream(model=MODEL_ID, contents=contents)\n",
    "\n",
    "print(\"\\n-------Response--------\")\n",
    "for response in responses:\n",
    "    print(response.text, end=\"\")"
   ]
  },
  {
   "cell_type": "markdown",
   "metadata": {
    "id": "64I8-GxSbkTv"
   },
   "source": [
    "### Generating open recommendations based on built-in knowledge\n",
    "\n",
    "Using the same image, you can ask the model to recommend **a piece of furniture** that would fit in it alongside with the description of the room.\n",
    "\n",
    "Note that the model can choose **any furniture** to recommend in this case, and can do so from its only built-in knowledge."
   ]
  },
  {
   "cell_type": "code",
   "execution_count": null,
   "metadata": {
    "id": "UaRDl1WvypT8",
    "tags": []
   },
   "outputs": [
    {
     "name": "stdout",
     "output_type": "stream",
     "text": [
      "\n",
      "-------Response--------\n",
      "Here's a recommendation for a new piece of furniture and the reasoning behind it:\n",
      "\n",
      "**Recommendation:** A Narrow Console Table/Sideboard\n",
      "\n",
      "**Reasoning:**\n",
      "\n",
      "*   **Functionality:** The room appears to lack a dedicated surface for practical items like keys, mail, or decorative objects. A narrow console table or sideboard placed along one of the walls (perhaps the one beside the lamp if space permits) would provide a landing zone and prevent clutter on the coffee table.\n",
      "*   **Style Consistency:** Opt for a console table made of light-colored wood, natural fiber materials, or a light, painted finish with clean lines to maintain the room's airy, neutral, and slightly bohemian aesthetic. You could also look for a console table with woven or rattan details for a bit of texture, echoing the existing mirrors and ottoman.\n",
      "*   **Space Consideration:** Because the room seems fairly well-furnished, a console table with a relatively small footprint is essential to avoid overcrowding the space. Look for a piece that is long and narrow, rather than deep.\n",
      "*   **Visual Interest:** The right console table can add another layer of visual interest to the room. You can decorate it with a plant, a small lamp, a decorative bowl, or a few curated items to further personalize the space.\n",
      "\n",
      "In short, a narrow console table would enhance the room's functionality, maintain its stylistic cohesion, and offer an opportunity to personalize the space further without disrupting the existing layout."
     ]
    }
   ],
   "source": [
    "prompt1 = \"Recommend a new piece of furniture for this room:\"\n",
    "prompt2 = \"and explain the reason in detail\"\n",
    "contents = [prompt1, room_image, prompt2]\n",
    "\n",
    "responses = client.models.generate_content_stream(model=MODEL_ID, contents=contents)\n",
    "\n",
    "print(\"\\n-------Response--------\")\n",
    "for response in responses:\n",
    "    print(response.text, end=\"\")"
   ]
  },
  {
   "cell_type": "markdown",
   "metadata": {
    "id": "lzdaG4iIdZM8"
   },
   "source": [
    "In the next cell, you will ask the model to recommend **a type of chair** that would fit in it alongside with the description of the room.\n",
    "\n",
    "Note that the model can choose **any type of chair** to recommend in this case."
   ]
  },
  {
   "cell_type": "code",
   "execution_count": null,
   "metadata": {
    "id": "h7xKDMFLyQuD",
    "tags": []
   },
   "outputs": [
    {
     "name": "stdout",
     "output_type": "stream",
     "text": [
      "\n",
      "-------Response--------\n",
      "The room is decorated in a warm, neutral color palette with a focus on natural textures and light. The walls are painted a light beige or off-white, providing a soft backdrop for the furniture and accessories. The flooring appears to be hardwood, possibly with a light stain.\n",
      "\n",
      "Key elements of the room:\n",
      "\n",
      "*   **Seating:** There's a light grey or beige sofa adorned with a variety of cushions in similar neutral tones and textures. A chunky knit blanket is draped over the back. A plush, cream-colored armchair with a round pillow sits to the side.\n",
      "*   **Coffee Table:** A round, white marble coffee table with wooden legs is placed in front of the sofa.\n",
      "*   **Decor:** Two round mirrors with woven frames are mounted on the wall behind the sofa. A tall, white vase filled with dried pampas grass stands next to the armchair.\n",
      "*   **Rug:** A large, textured rug in a light beige color covers a significant portion of the floor, adding warmth and comfort to the space.\n",
      "*   **Lighting:** A floor lamp with a light-colored shade stands in the corner. There's also a woven basket around the base of the floor lamp.\n",
      "*   **Other Elements:** A woven ottoman is near the armchair. There's a small sheepskin or faux fur rug underneath the armchair and ottoman.\n",
      "\n",
      "Overall, the room has a cozy and inviting atmosphere, with a focus on natural materials and a calming color scheme. The style is modern and minimalist, with a touch of bohemian flair.\n",
      "\n",
      "**Recommended Chair:**\n",
      "\n",
      "Given the current style, a great addition to this room would be a **mid-century modern accent chair** with wooden legs and upholstery in a complementary neutral tone (perhaps a slightly darker beige, tan, or even a soft, muted olive green). The chair could have a clean, simple design to maintain the minimalist aesthetic, but with a comfortable and inviting seat. Something along the lines of a wingback chair would also fit well with this style."
     ]
    }
   ],
   "source": [
    "prompt1 = \"Describe this room:\"\n",
    "prompt2 = \"and recommend a type of chair that would fit in it\"\n",
    "contents = [prompt1, room_image, prompt2]\n",
    "\n",
    "responses = client.models.generate_content_stream(model=MODEL_ID, contents=contents)\n",
    "\n",
    "print(\"\\n-------Response--------\")\n",
    "for response in responses:\n",
    "    print(response.text, end=\"\")"
   ]
  },
  {
   "cell_type": "markdown",
   "metadata": {
    "id": "idEB0JFcbznD"
   },
   "source": [
    "### Generating recommendations based on provided images\n",
    "\n",
    "Instead of keeping the recommendation open, you can also provide a list of items for the model to choose from. Here you will download a few chair images and set them as options for the Gemini model to recommend from. This is particularly useful for retail companies who want to provide recommendations to users based on the kind of room they have, and the available items that the store offers."
   ]
  },
  {
   "cell_type": "code",
   "execution_count": null,
   "metadata": {
    "id": "f_jMmwRiFcPF",
    "tags": []
   },
   "outputs": [
    {
     "name": "stdout",
     "output_type": "stream",
     "text": [
      "\n",
      "-------Response--------\n",
      "Okay, let's analyze each chair in relation to the style of the room. The room appears to have a neutral color palette, with a focus on natural textures like woven materials, light wood, and soft textiles. It gives off a relaxed, bohemian-chic vibe.\n",
      "\n",
      "Here's my assessment of each chair:\n",
      "\n",
      "**Chair 1:**\n",
      "*   **Description:** This is a simple, industrial-style stool with a wooden seat and metal frame.\n",
      "*   **Appropriateness:** No. This stool doesn't really fit with the room's relaxed and slightly elegant aesthetic. The industrial style is too harsh and contrasts too much with the softer, more natural elements.\n",
      "\n",
      "**Chair 2:**\n",
      "*   **Description:** A classic tufted armchair with white upholstery and ornate legs.\n",
      "*   **Appropriateness:** Maybe. The style could work if the room design were leaning further into a chic or modern farmhouse type of design.\n",
      "\n",
      "**Chair 3:**\n",
      "*   **Description:** A basic, square wooden stool.\n",
      "*   **Appropriateness:** No.\n",
      "\n",
      "**Chair 4:**\n",
      "*   **Description:** A modern lounge chair with fabric upholstery and a unique wooden base.\n",
      "*   **Appropriateness:** Yes. The low profile, clean lines, and wood base align well with the room's style. The natural fabric complements the room's color palette.\n",
      "\n",
      "**In Summary:**\n",
      "\n",
      "The most appropriate chair for the room is chair 4, followed by chair 2, then chairs 1 and 3."
     ]
    }
   ],
   "source": [
    "# Download and display sample chairs\n",
    "furniture_image_urls = [\n",
    "    \"https://storage.googleapis.com/github-repo/img/gemini/retail-recommendations/furnitures/cesar-couto-OB2F6CsMva8-unsplash.jpg\",\n",
    "    \"https://storage.googleapis.com/github-repo/img/gemini/retail-recommendations/furnitures/daniil-silantev-1P6AnKDw6S8-unsplash.jpg\",\n",
    "    \"https://storage.googleapis.com/github-repo/img/gemini/retail-recommendations/furnitures/ruslan-bardash-4kTbAMRAHtQ-unsplash.jpg\",\n",
    "    \"https://storage.googleapis.com/github-repo/img/gemini/retail-recommendations/furnitures/scopic-ltd-NLlWwR4d3qU-unsplash.jpg\",\n",
    "]\n",
    "\n",
    "# Load furniture images as Part Objects\n",
    "furniture_images = [\n",
    "    Part.from_uri(file_uri=url, mime_type=\"image/jpeg\") for url in furniture_image_urls\n",
    "]\n",
    "\n",
    "# To recommend an item from a selection, you will need to label the item number within the prompt.\n",
    "# That way you are providing the model with a way to reference each image as you pose a question.\n",
    "# Labelling images within your prompt also help to reduce hallucinations and overall produce better results.\n",
    "contents = [\n",
    "    \"Consider the following chairs:\",\n",
    "    \"chair 1:\",\n",
    "    furniture_images[0],\n",
    "    \"chair 2:\",\n",
    "    furniture_images[1],\n",
    "    \"chair 3:\",\n",
    "    furniture_images[2],\n",
    "    \"chair 4:\",\n",
    "    furniture_images[3],\n",
    "    \"room:\",\n",
    "    room_image,\n",
    "    \"You are an interior designer. For each chair, explain whether it would be appropriate for the style of the room:\",\n",
    "]\n",
    "\n",
    "responses = client.models.generate_content_stream(model=MODEL_ID, contents=contents)\n",
    "\n",
    "print(\"\\n-------Response--------\")\n",
    "for response in responses:\n",
    "    print(response.text, end=\"\")"
   ]
  },
  {
   "cell_type": "markdown",
   "metadata": {
    "id": "Mkw-DixOUYRc"
   },
   "source": [
    "You can also return the responses in JSON format, to make it easier to plug recommendations into a recommendation system:"
   ]
  },
  {
   "cell_type": "code",
   "execution_count": null,
   "metadata": {
    "id": "MDBQufRYUYRc",
    "tags": []
   },
   "outputs": [
    {
     "name": "stdout",
     "output_type": "stream",
     "text": [
      "\n",
      "-------Response--------\n",
      "[\n",
      "  {\n",
      "    \"chair_id\": \"chair 1\",\n",
      "    \"fits\": false,\n",
      "    \"explanation\": \"Chair 1 is a stool with a vintage style, its style clashes with the room's modern and bohemian aesthetic.\"\n",
      "  },\n",
      "  {\n",
      "    \"chair_id\": \"chair 2\",\n",
      "    \"fits\": true,\n",
      "    \"explanation\": \"Chair 2 has a classic and elegant design with soft lines. It would fit well with the room's neutral color palette and add a touch of sophistication.\"\n",
      "  },\n",
      "  {\n",
      "    \"chair_id\": \"chair 3\",\n",
      "    \"fits\": false,\n",
      "    \"explanation\": \"Chair 3 is a simple and minimalist stool. While it's neutral, its style is too basic and does not match the room's refined and textured bohemian style.\"\n",
      "  },\n",
      "  {\n",
      "    \"chair_id\": \"chair 4\",\n",
      "    \"fits\": true,\n",
      "    \"explanation\": \"Chair 4 has a modern and simple style. It would fit well with the room's modern aesthetic and neutral color palette.\"\n",
      "  }\n",
      "]"
     ]
    }
   ],
   "source": [
    "contents = [\n",
    "    \"Consider the following chairs:\",\n",
    "    \"chair 1:\",\n",
    "    furniture_images[0],\n",
    "    \"chair 2:\",\n",
    "    furniture_images[1],\n",
    "    \"chair 3:\",\n",
    "    furniture_images[2],\n",
    "    \"chair 4:\",\n",
    "    furniture_images[3],\n",
    "    \"room:\",\n",
    "    room_image,\n",
    "    \"You are an interior designer. Return in JSON, for each chair, whether it would fit in the room, with an explanation:\",\n",
    "]\n",
    "\n",
    "responses = client.models.generate_content_stream(\n",
    "    model=MODEL_ID,\n",
    "    contents=contents,\n",
    "    config=GenerateContentConfig(response_mime_type=\"application/json\"),\n",
    ")\n",
    "\n",
    "print(\"\\n-------Response--------\")\n",
    "for response in responses:\n",
    "    print(response.text, end=\"\")"
   ]
  },
  {
   "cell_type": "markdown",
   "metadata": {
    "id": "0_uhGdZERToX"
   },
   "source": [
    "## Conclusion\n",
    "\n",
    "This notebook showed how you can easily build a multimodal recommendation system using Gemini for furniture, but you can also use the similar approach in:\n",
    "\n",
    "- recommending clothes based on an occasion or an image of the venue\n",
    "- recommending wallpaper based on the room and settings\n",
    "\n",
    "You may also want to explore how you can build a RAG (retrieval-augmented generation) system where you retrieve relevant images from your store inventory to users who can they use Gemini to help identify the most ideal choice from the various options provided, and also explain the rationale to users."
   ]
  }
 ],
 "metadata": {
  "colab": {
   "name": "multimodal_retail_recommendations.ipynb",
   "toc_visible": true
  },
  "environment": {
   "kernel": "conda-base-py",
   "name": "workbench-notebooks.m129",
   "type": "gcloud",
   "uri": "us-docker.pkg.dev/deeplearning-platform-release/gcr.io/workbench-notebooks:m129"
  },
  "kernelspec": {
   "display_name": "Python 3 (ipykernel) (Local)",
   "language": "python",
   "name": "conda-base-py"
  },
  "language_info": {
   "codemirror_mode": {
    "name": "ipython",
    "version": 3
   },
   "file_extension": ".py",
   "mimetype": "text/x-python",
   "name": "python",
   "nbconvert_exporter": "python",
   "pygments_lexer": "ipython3",
   "version": "3.10.16"
  }
 },
 "nbformat": 4,
 "nbformat_minor": 4
}
