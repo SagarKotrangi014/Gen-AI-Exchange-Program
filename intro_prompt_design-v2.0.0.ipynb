{
 "cells": [
  {
   "cell_type": "code",
   "execution_count": 1,
   "metadata": {
    "id": "ur8xi4C7S06n",
    "tags": []
   },
   "outputs": [],
   "source": [
    "# Copyright 2024 Google LLC\n",
    "#\n",
    "# Licensed under the Apache License, Version 2.0 (the \"License\");\n",
    "# you may not use this file except in compliance with the License.\n",
    "# You may obtain a copy of the License at\n",
    "#\n",
    "#     https://www.apache.org/licenses/LICENSE-2.0\n",
    "#\n",
    "# Unless required by applicable law or agreed to in writing, software\n",
    "# distributed under the License is distributed on an \"AS IS\" BASIS,\n",
    "# WITHOUT WARRANTIES OR CONDITIONS OF ANY KIND, either express or implied.\n",
    "# See the License for the specific language governing permissions and\n",
    "# limitations under the License."
   ]
  },
  {
   "cell_type": "markdown",
   "metadata": {
    "id": "JAPoU8Sm5E6e"
   },
   "source": [
    "# Prompt Design - Best Practices\n",
    "\n",
    "<table align=\"left\">\n",
    "  <td style=\"text-align: center\">\n",
    "    <a href=\"https://colab.research.google.com/github/GoogleCloudPlatform/generative-ai/blob/main/gemini/prompts/intro_prompt_design.ipynb\">\n",
    "      <img src=\"https://cloud.google.com/ml-engine/images/colab-logo-32px.png\" alt=\"Google Colaboratory logo\"><br> Open in Colab\n",
    "    </a>\n",
    "  </td>\n",
    "  <td style=\"text-align: center\">\n",
    "    <a href=\"https://console.cloud.google.com/vertex-ai/colab/import/https:%2F%2Fraw.githubusercontent.com%2FGoogleCloudPlatform%2Fgenerative-ai%2Fmain%2Fgemini%2Fprompts%2Fintro_prompt_design.ipynb\">\n",
    "      <img width=\"32px\" src=\"https://lh3.googleusercontent.com/JmcxdQi-qOpctIvWKgPtrzZdJJK-J3sWE1RsfjZNwshCFgE_9fULcNpuXYTilIR2hjwN\" alt=\"Google Cloud Colab Enterprise logo\"><br> Open in Colab Enterprise\n",
    "    </a>\n",
    "  </td>    \n",
    "  <td style=\"text-align: center\">\n",
    "    <a href=\"https://console.cloud.google.com/vertex-ai/workbench/deploy-notebook?download_url=https://raw.githubusercontent.com/GoogleCloudPlatform/generative-ai/main/gemini/prompts/intro_prompt_design.ipynb\">\n",
    "      <img src=\"https://lh3.googleusercontent.com/UiNooY4LUgW_oTvpsNhPpQzsstV5W8F7rYgxgGBD85cWJoLmrOzhVs_ksK_vgx40SHs7jCqkTkCk=e14-rj-sc0xffffff-h130-w32\" alt=\"Vertex AI logo\"><br> Open in Workbench\n",
    "    </a>\n",
    "  </td>\n",
    "  <td style=\"text-align: center\">\n",
    "    <a href=\"https://github.com/GoogleCloudPlatform/generative-ai/blob/main/gemini/prompts/intro_prompt_design.ipynb\">\n",
    "      <img src=\"https://cloud.google.com/ml-engine/images/github-logo-32px.png\" alt=\"GitHub logo\"><br> View on GitHub\n",
    "    </a>\n",
    "  </td>\n",
    "  <td style=\"text-align: center\">\n",
    "    <a href=\"https://goo.gle/4fWHlze\">\n",
    "      <img width=\"32px\" src=\"https://cdn.qwiklabs.com/assets/gcp_cloud-e3a77215f0b8bfa9b3f611c0d2208c7e8708ed31.svg\" alt=\"Google Cloud logo\"><br> Open in  Cloud Skills Boost\n",
    "    </a>\n",
    "  </td>\n",
    "</table>\n",
    "\n",
    "<div style=\"clear: both;\"></div>\n",
    "\n",
    "<b>Share to:</b>\n",
    "\n",
    "<a href=\"https://www.linkedin.com/sharing/share-offsite/?url=https%3A//github.com/GoogleCloudPlatform/generative-ai/blob/main/gemini/prompts/intro_prompt_design.ipynb\" target=\"_blank\">\n",
    "  <img width=\"20px\" src=\"https://upload.wikimedia.org/wikipedia/commons/8/81/LinkedIn_icon.svg\" alt=\"LinkedIn logo\">\n",
    "</a>\n",
    "\n",
    "<a href=\"https://bsky.app/intent/compose?text=https%3A//github.com/GoogleCloudPlatform/generative-ai/blob/main/gemini/prompts/intro_prompt_design.ipynb\" target=\"_blank\">\n",
    "  <img width=\"20px\" src=\"https://upload.wikimedia.org/wikipedia/commons/7/7a/Bluesky_Logo.svg\" alt=\"Bluesky logo\">\n",
    "</a>\n",
    "\n",
    "<a href=\"https://twitter.com/intent/tweet?url=https%3A//github.com/GoogleCloudPlatform/generative-ai/blob/main/gemini/prompts/intro_prompt_design.ipynb\" target=\"_blank\">\n",
    "  <img width=\"20px\" src=\"https://upload.wikimedia.org/wikipedia/commons/5/53/X_logo_2023_original.svg\" alt=\"X logo\">\n",
    "</a>\n",
    "\n",
    "<a href=\"https://reddit.com/submit?url=https%3A//github.com/GoogleCloudPlatform/generative-ai/blob/main/gemini/prompts/intro_prompt_design.ipynb\" target=\"_blank\">\n",
    "  <img width=\"20px\" src=\"https://redditinc.com/hubfs/Reddit%20Inc/Brand/Reddit_Logo.png\" alt=\"Reddit logo\">\n",
    "</a>\n",
    "\n",
    "<a href=\"https://www.facebook.com/sharer/sharer.php?u=https%3A//github.com/GoogleCloudPlatform/generative-ai/blob/main/gemini/prompts/intro_prompt_design.ipynb\" target=\"_blank\">\n",
    "  <img width=\"20px\" src=\"https://upload.wikimedia.org/wikipedia/commons/5/51/Facebook_f_logo_%282019%29.svg\" alt=\"Facebook logo\">\n",
    "</a>            "
   ]
  },
  {
   "cell_type": "markdown",
   "metadata": {
    "id": "84f0f73a0f76"
   },
   "source": [
    "| | |\n",
    "|-|-|\n",
    "|Author(s) | [Polong Lin](https://github.com/polong-lin), [Karl Weinmeister](https://github.com/kweinmeister) |"
   ]
  },
  {
   "cell_type": "markdown",
   "metadata": {
    "id": "tvgnzT1CKxrO"
   },
   "source": [
    "## Overview\n",
    "\n",
    "This notebook covers the essentials of prompt engineering, including some best practices.\n",
    "\n",
    "Learn more about prompt design in the [official documentation](https://cloud.google.com/vertex-ai/docs/generative-ai/text/text-overview).\n",
    "\n",
    "In this notebook, you learn best practices around prompt engineering -- how to design prompts to improve the quality of your responses.\n",
    "\n",
    "This notebook covers the following best practices for prompt engineering:\n",
    "\n",
    "- Be concise\n",
    "- Be specific and well-defined\n",
    "- Ask one task at a time\n",
    "- Turn generative tasks into classification tasks\n",
    "- Improve response quality by including examples"
   ]
  },
  {
   "cell_type": "markdown",
   "metadata": {
    "id": "61RBz8LLbxCR"
   },
   "source": [
    "## Getting Started"
   ]
  },
  {
   "cell_type": "markdown",
   "metadata": {
    "id": "No17Cw5hgx12"
   },
   "source": [
    "### Install Google Gen AI SDK\n"
   ]
  },
  {
   "cell_type": "code",
   "execution_count": 2,
   "metadata": {
    "id": "tFy3H3aPgx12",
    "tags": []
   },
   "outputs": [
    {
     "name": "stdout",
     "output_type": "stream",
     "text": [
      "Note: you may need to restart the kernel to use updated packages.\n"
     ]
    }
   ],
   "source": [
    "%pip install --upgrade --quiet google-genai"
   ]
  },
  {
   "cell_type": "markdown",
   "metadata": {
    "id": "R5Xep4W9lq-Z"
   },
   "source": [
    "### Restart runtime\n",
    "\n",
    "To use the newly installed packages in this Jupyter runtime, you must restart the runtime. You can do this by running the cell below, which will restart the current kernel."
   ]
  },
  {
   "cell_type": "code",
   "execution_count": 3,
   "metadata": {
    "id": "XRvKdaPDTznN",
    "tags": []
   },
   "outputs": [
    {
     "data": {
      "text/plain": [
       "{'status': 'ok', 'restart': True}"
      ]
     },
     "execution_count": 3,
     "metadata": {},
     "output_type": "execute_result"
    }
   ],
   "source": [
    "import IPython\n",
    "\n",
    "app = IPython.Application.instance()\n",
    "app.kernel.do_shutdown(True)"
   ]
  },
  {
   "cell_type": "markdown",
   "metadata": {
    "id": "SbmM4z7FOBpM"
   },
   "source": [
    "<div class=\"alert alert-block alert-warning\">\n",
    "<b>⚠️ The kernel is going to restart. Please wait until it is finished before continuing to the next step. ⚠️</b>\n",
    "</div>\n"
   ]
  },
  {
   "cell_type": "markdown",
   "metadata": {
    "id": "dmWOrTJ3gx13"
   },
   "source": [
    "### Authenticate your notebook environment (Colab only)\n",
    "\n",
    "Authenticate your environment on Google Colab.\n"
   ]
  },
  {
   "cell_type": "code",
   "execution_count": 1,
   "metadata": {
    "id": "NyKGtVQjgx13",
    "tags": []
   },
   "outputs": [],
   "source": [
    "import sys\n",
    "\n",
    "if \"google.colab\" in sys.modules:\n",
    "    from google.colab import auth\n",
    "\n",
    "    auth.authenticate_user()"
   ]
  },
  {
   "cell_type": "markdown",
   "metadata": {
    "id": "06489bd14f16"
   },
   "source": [
    "### Import libraries\n"
   ]
  },
  {
   "cell_type": "code",
   "execution_count": 2,
   "metadata": {
    "id": "154137022fb6",
    "tags": []
   },
   "outputs": [],
   "source": [
    "from IPython.display import Markdown, display\n",
    "from google import genai\n",
    "from google.genai.types import GenerateContentConfig"
   ]
  },
  {
   "cell_type": "markdown",
   "metadata": {
    "id": "DF4l8DTdWgPY"
   },
   "source": [
    "### Set Google Cloud project information and create client\n",
    "\n",
    "To get started using Vertex AI, you must have an existing Google Cloud project and [enable the Vertex AI API](https://console.cloud.google.com/flows/enableapi?apiid=aiplatform.googleapis.com).\n",
    "\n",
    "Learn more about [setting up a project and a development environment](https://cloud.google.com/vertex-ai/docs/start/cloud-environment)."
   ]
  },
  {
   "cell_type": "code",
   "execution_count": 5,
   "metadata": {
    "id": "Nqwi-5ufWp_B",
    "tags": []
   },
   "outputs": [],
   "source": [
    "import os\n",
    "\n",
    "PROJECT_ID = \"[qwiklabs-gcp-00-0827ed34c15c]\"  # @param {type: \"string\", placeholder: \"[your-project-id]\", isTemplate: true}\n",
    "if not PROJECT_ID or PROJECT_ID == \"[qwiklabs-gcp-00-0827ed34c15c]\":\n",
    "    PROJECT_ID = str(os.environ.get(\"GOOGLE_CLOUD_PROJECT\"))\n",
    "\n",
    "LOCATION = os.environ.get(\"GOOGLE_CLOUD_REGION\", \"us-central1\")"
   ]
  },
  {
   "cell_type": "code",
   "execution_count": 6,
   "metadata": {
    "id": "QqRWdPGmW3NJ",
    "tags": []
   },
   "outputs": [],
   "source": [
    "client = genai.Client(vertexai=True, project=PROJECT_ID, location=LOCATION)"
   ]
  },
  {
   "cell_type": "markdown",
   "metadata": {
    "id": "OnFPpCRtXRl4"
   },
   "source": [
    "### Load model\n",
    "\n",
    "Learn more about all [Gemini models on Vertex AI](https://cloud.google.com/vertex-ai/generative-ai/docs/learn/models#gemini-models)."
   ]
  },
  {
   "cell_type": "code",
   "execution_count": 7,
   "metadata": {
    "id": "IQYu_9SvXQah",
    "tags": []
   },
   "outputs": [],
   "source": [
    "MODEL_ID = \"gemini-2.0-flash-001\"  # @param {type: \"string\"}"
   ]
  },
  {
   "cell_type": "markdown",
   "metadata": {
    "id": "cVOtUNJ5X0PY"
   },
   "source": [
    "## Prompt engineering best practices"
   ]
  },
  {
   "cell_type": "markdown",
   "metadata": {
    "id": "uv_e0fEPX60q"
   },
   "source": [
    "Prompt engineering is all about how to design your prompts so that the response is what you were indeed hoping to see.\n",
    "\n",
    "The idea of using \"unfancy\" prompts is to minimize the noise in your prompt to reduce the possibility of the LLM misinterpreting the intent of the prompt. Below are a few guidelines on how to engineer \"unfancy\" prompts.\n",
    "\n",
    "In this section, you'll cover the following best practices when engineering prompts:\n",
    "\n",
    "* Be concise\n",
    "* Be specific, and well-defined\n",
    "* Ask one task at a time\n",
    "* Improve response quality by including examples\n",
    "* Turn generative tasks to classification tasks to improve safety"
   ]
  },
  {
   "cell_type": "markdown",
   "metadata": {
    "id": "0pY4XX0OX9_Y"
   },
   "source": [
    "### Be concise"
   ]
  },
  {
   "cell_type": "markdown",
   "metadata": {
    "id": "xlRpxyxGYA1K"
   },
   "source": [
    "🛑 Not recommended. The prompt below is unnecessarily verbose."
   ]
  },
  {
   "cell_type": "code",
   "execution_count": 8,
   "metadata": {
    "id": "YKV4G-CfXdbi",
    "tags": []
   },
   "outputs": [
    {
     "data": {
      "text/markdown": [
       "Okay, here are some name ideas for a dried flower shop, playing with different angles:\n",
       "\n",
       "**Emphasizing Dried & Lasting:**\n",
       "\n",
       "*   **The Everbloom:** Evokes longevity and beauty.\n",
       "*   **Lasting Petals:** Simple, descriptive, and emphasizes the enduring nature.\n",
       "*   **The Preserved Posy:**  A bit vintage and charming.\n",
       "*   **Forever Flora:** A straightforward and modern feel.\n",
       "*   **Dried Delights:** Playful and emphasizes the joy of dried flowers.\n",
       "*   **The Timeless Bloom:** Suggests that the beauty transcends time.\n",
       "*   **Amber Blooms:** Amber is associated with preservation and a warm color.\n",
       "*   **Eternal Eden:** A bit dramatic, but evokes a lasting paradise.\n",
       "\n",
       "**Highlighting the Craft & Art:**\n",
       "\n",
       "*   **The Dried Design:** Focuses on the artistic arrangement.\n",
       "*   **Botanical Brushstrokes:** Implies an artistic approach to dried flowers.\n",
       "*   **The Floral Alchemist:** Suggests transforming flowers into something lasting.\n",
       "*   **Pressed & Preserved:**  Simple, descriptive, and highlights the technique.\n",
       "*   **The Still Life Studio:**  Elevates the arrangements to art pieces.\n",
       "*   **Harvest & Hue:** Implies curated color palettes and a thoughtful selection of flowers.\n",
       "\n",
       "**Using Nature-Inspired & Whimsical Names:**\n",
       "\n",
       "*   **Sunbaked Blooms:** Evokes the drying process.\n",
       "*   **Golden Grass & Bloom:** Suggests a focus on natural textures and tones.\n",
       "*   **The Whispering Wilds:** Creates a sense of natural beauty and gentle movement.\n",
       "*   **Ember & Bloom:** Juxtaposes warmth and the beauty of flowers.\n",
       "*   **Fields of Forever:** A romantic and evocative name.\n",
       "*   **Moonflower & Moss:** A more mystical and earthy vibe.\n",
       "\n",
       "**Modern & Minimalist:**\n",
       "\n",
       "*   **Dry Bloom:** Simple, direct, and modern.\n",
       "*   **Dried Stems:** Clean and minimalist.\n",
       "*   **Preserved:** A single, impactful word.\n",
       "*   **The Dried Flower Co.:** Simple and professional.\n",
       "\n",
       "**Tips for Choosing a Name:**\n",
       "\n",
       "*   **Check Availability:** Make sure the name isn't already in use by another flower shop in your area, and that the domain name is available if you plan to have a website.\n",
       "*   **Target Audience:** Consider who you're trying to attract (e.g., modern millennials, vintage enthusiasts).\n",
       "*   **Memorability:** Choose a name that is easy to remember and pronounce.\n",
       "*   **Brand Identity:** Make sure the name aligns with the overall aesthetic and feeling you want to create for your shop.\n",
       "\n",
       "Ultimately, the best name will depend on your specific brand and vision. Good luck!\n"
      ],
      "text/plain": [
       "<IPython.core.display.Markdown object>"
      ]
     },
     "metadata": {},
     "output_type": "display_data"
    }
   ],
   "source": [
    "prompt = \"What do you think could be a good name for a flower shop that specializes in selling bouquets of dried flowers more than fresh flowers?\"\n",
    "\n",
    "response = client.models.generate_content(model=MODEL_ID, contents=prompt)\n",
    "display(Markdown(response.text))"
   ]
  },
  {
   "cell_type": "markdown",
   "metadata": {
    "id": "YrJexRHJYnmC"
   },
   "source": [
    "✅ Recommended. The prompt below is to the point and concise."
   ]
  },
  {
   "cell_type": "code",
   "execution_count": 9,
   "metadata": {
    "id": "VHetn9lCYrXB",
    "tags": []
   },
   "outputs": [
    {
     "data": {
      "text/markdown": [
       "Okay, here are some name suggestions for a dried flower shop, playing with different angles like the preservation process, the lasting nature of the flowers, aesthetics, and overall feel:\n",
       "\n",
       "**Emphasizing Preservation & Longevity:**\n",
       "\n",
       "*   The Everbloom\n",
       "*   Lasting Petals\n",
       "*   The Preserved Petal\n",
       "*   Timeless Blooms\n",
       "*   Dried & True\n",
       "*   The Eternal Bouquet\n",
       "*   Forever in Bloom\n",
       "*   Keepsake Blossoms\n",
       "*   The Memory Garden\n",
       "*   Captured Blooms\n",
       "\n",
       "**Highlighting Beauty & Aesthetics:**\n",
       "\n",
       "*   Golden Flora\n",
       "*   The Gilded Bloom\n",
       "*   Whispers of Wildflowers (if you have a rustic style)\n",
       "*   Dust & Petals\n",
       "*   Amber Flora\n",
       "*   Rustic Charm Florals\n",
       "*   The Dried Stalk\n",
       "*   Vintage Petals\n",
       "*   Earth & Bloom\n",
       "*   Withered Wonders\n",
       "\n",
       "**Creative & Unique:**\n",
       "\n",
       "*   The Still Room\n",
       "*   Botanical Echoes\n",
       "*   The Dried Flower Almanac\n",
       "*   Bloom & Bone (edgy, if that fits your brand)\n",
       "*   The Sleeping Garden\n",
       "*   Petrified Petals\n",
       "*   The Herbarium\n",
       "*   Mortmain Florals (French for \"dead hand,\" but can be evocative)\n",
       "*   Solar Florals (referencing the drying process)\n",
       "*   The Bloom Alchemist\n",
       "\n",
       "**Simple & Direct:**\n",
       "\n",
       "*   Dried Flower Co.\n",
       "*   The Dried Flower Shop\n",
       "*   [Your Name]'s Dried Flowers (e.g., \"Sarah's Dried Flowers\")\n",
       "\n",
       "**Tips for Choosing:**\n",
       "\n",
       "*   **Consider your target audience:** Are you aiming for a modern, minimalist crowd or a more vintage/rustic aesthetic?\n",
       "*   **Check for availability:** Make sure the name isn't already in use, and that you can secure a website domain and social media handles.\n",
       "*   **Say it out loud:** Does the name roll off the tongue? Is it easy to remember?\n",
       "*   **Get feedback:** Ask friends and family what they think of your top choices.\n",
       "*   **Think about your brand:** Does the name align with the overall feeling you want to create for your shop?\n",
       "\n",
       "Good luck! Let me know if you'd like more suggestions!\n"
      ],
      "text/plain": [
       "<IPython.core.display.Markdown object>"
      ]
     },
     "metadata": {},
     "output_type": "display_data"
    }
   ],
   "source": [
    "prompt = \"Suggest a name for a flower shop that sells bouquets of dried flowers\"\n",
    "\n",
    "response = client.models.generate_content(model=MODEL_ID, contents=prompt)\n",
    "display(Markdown(response.text))"
   ]
  },
  {
   "cell_type": "markdown",
   "metadata": {
    "id": "eXTAvdOHY0OC"
   },
   "source": [
    "### Be specific, and well-defined"
   ]
  },
  {
   "cell_type": "markdown",
   "metadata": {
    "id": "FTH4GEIgY1dp"
   },
   "source": [
    "Suppose that you want to brainstorm creative ways to describe Earth."
   ]
  },
  {
   "cell_type": "markdown",
   "metadata": {
    "id": "o5BmXBiGY4KC"
   },
   "source": [
    "🛑 The prompt below might be a bit too generic (which is certainly OK if you'd like to ask a generic question!)"
   ]
  },
  {
   "cell_type": "code",
   "execution_count": 10,
   "metadata": {
    "id": "eHBaMvv7Y6mR",
    "tags": []
   },
   "outputs": [
    {
     "data": {
      "text/markdown": [
       "Okay, let's dive into the fascinating planet we call home: Earth! Here's a breakdown of some key facts and information:\n",
       "\n",
       "**Basic Stats:**\n",
       "\n",
       "*   **Name:** Earth (The name comes from the Old English word \"eorþe,\" meaning ground or soil.)\n",
       "*   **Planet Type:** Terrestrial (rocky) planet\n",
       "*   **Position in Solar System:** Third planet from the Sun\n",
       "*   **Diameter:** Approximately 12,742 kilometers (7,918 miles)\n",
       "*   **Circumference:** Approximately 40,075 kilometers (24,901 miles)\n",
       "*   **Mass:** Approximately 5.97 x 10^24 kilograms (that's a 597 followed by 22 zeros!)\n",
       "*   **Orbit around the Sun:** About 365.25 days (This is why we have leap years)\n",
       "*   **Rotation on its Axis:** About 24 hours (This is what gives us day and night)\n",
       "*   **Atmosphere:** Primarily nitrogen (78%) and oxygen (21%), with trace amounts of other gases.\n",
       "*   **Satellite(s):** One natural satellite, the Moon.\n",
       "*   **Average Temperature:** About 15°C (59°F) - but this varies wildly depending on location and time of year!\n",
       "\n",
       "**Key Features:**\n",
       "\n",
       "*   **Water:** A defining feature! Earth is the only known planet with liquid water on its surface.  About 71% of Earth's surface is covered by water in the form of oceans, lakes, rivers, ice caps, and glaciers.  This water is crucial for life as we know it.\n",
       "*   **Plate Tectonics:** Earth's surface is broken into large pieces called tectonic plates that are constantly moving and interacting.  This movement causes earthquakes, volcanoes, and the formation of mountains and ocean trenches.\n",
       "*   **Atmosphere:**  Earth's atmosphere protects us from harmful solar radiation, regulates temperature, and provides the air we breathe.\n",
       "*   **Magnetic Field:**  Generated by the movement of molten iron in Earth's outer core, the magnetic field deflects charged particles from the Sun (solar wind), protecting the atmosphere and life on Earth.\n",
       "*   **Life:** Earth is the only known planet to harbor life.  From microscopic bacteria to giant blue whales, Earth is teeming with a vast diversity of organisms.\n",
       "\n",
       "**Internal Structure:**\n",
       "\n",
       "Earth has a layered structure:\n",
       "\n",
       "*   **Crust:** The outermost layer, a thin and solid layer of rock.  There are two types: oceanic crust (thinner and denser) and continental crust (thicker and less dense).\n",
       "*   **Mantle:** A thick, mostly solid layer beneath the crust. It is composed of silicate rocks rich in iron and magnesium.\n",
       "*   **Outer Core:** A liquid layer composed mainly of iron and nickel. The movement of this liquid metal generates Earth's magnetic field.\n",
       "*   **Inner Core:** A solid sphere composed mainly of iron and nickel. It is extremely hot and under immense pressure.\n",
       "\n",
       "**Formation and Evolution:**\n",
       "\n",
       "*   Earth formed about 4.54 billion years ago from a swirling cloud of gas and dust left over from the formation of the Sun.\n",
       "*   Over billions of years, Earth's surface and atmosphere have changed dramatically due to volcanic activity, plate tectonics, and the evolution of life.\n",
       "*   The early atmosphere was likely very different from today's, with little to no free oxygen. Oxygen levels rose significantly due to the evolution of photosynthetic organisms.\n",
       "\n",
       "**Why is Earth Habitable?**\n",
       "\n",
       "Several factors contribute to Earth's habitability:\n",
       "\n",
       "*   **Distance from the Sun:** Earth is located within the \"habitable zone,\" where temperatures are suitable for liquid water to exist.\n",
       "*   **Atmosphere:** The atmosphere traps heat, preventing extreme temperature swings, and protects us from harmful radiation.\n",
       "*   **Water:** Liquid water is essential for life as we know it.\n",
       "*   **Magnetic Field:** The magnetic field protects us from harmful solar radiation.\n",
       "*   **Plate Tectonics:** This process helps regulate Earth's temperature and recycles nutrients.\n",
       "\n",
       "**Human Impact:**\n",
       "\n",
       "*   Human activities, such as burning fossil fuels, deforestation, and industrial processes, are having a significant impact on Earth's climate and environment.\n",
       "*   These activities are contributing to global warming, ocean acidification, and loss of biodiversity.\n",
       "*   It is crucial that we take action to reduce our impact and protect Earth for future generations.\n",
       "\n",
       "**In Summary:**\n",
       "\n",
       "Earth is a unique and dynamic planet, teeming with life and constantly changing.  It is our home, and it is important to understand its complexities and protect it for the future. There is always more to learn about Earth and how it supports life.\n"
      ],
      "text/plain": [
       "<IPython.core.display.Markdown object>"
      ]
     },
     "metadata": {},
     "output_type": "display_data"
    }
   ],
   "source": [
    "prompt = \"Tell me about Earth\"\n",
    "\n",
    "response = client.models.generate_content(model=MODEL_ID, contents=prompt)\n",
    "display(Markdown(response.text))"
   ]
  },
  {
   "cell_type": "markdown",
   "metadata": {
    "id": "4iyvEbteZnFL"
   },
   "source": [
    "✅ Recommended. The prompt below is specific and well-defined."
   ]
  },
  {
   "cell_type": "code",
   "execution_count": 11,
   "metadata": {
    "id": "JQ80z8urZnne",
    "tags": []
   },
   "outputs": [
    {
     "data": {
      "text/markdown": [
       "Earth stands out from other planets in our solar system and beyond in several key ways:\n",
       "\n",
       "**Essential for Life (As We Know It):**\n",
       "\n",
       "*   **Liquid Water on the Surface:** This is arguably the most crucial factor. Water is essential for all known life. Earth resides in the \"Goldilocks Zone,\" where temperatures allow water to exist in liquid form on the surface.\n",
       "*   **Oxygen-Rich Atmosphere:**  A large percentage of Earth's atmosphere is oxygen, a byproduct of photosynthesis and crucial for complex life forms like animals.\n",
       "*   **Stable Temperature Range:** Thanks to its atmosphere, orbital distance, and rotation, Earth enjoys a relatively stable temperature range compared to the extreme temperature swings on many other planets.\n",
       "\n",
       "**Geological Activity and Composition:**\n",
       "\n",
       "*   **Plate Tectonics:** Earth is the only known planet in our solar system with active plate tectonics. This process recycles the crust, regulates temperature, and is potentially important for the evolution of life. It also drives the creation of mountains, volcanoes, and earthquakes.\n",
       "*   **Strong Magnetic Field:** Generated by Earth's molten iron core, the magnetic field deflects harmful solar wind and cosmic radiation, protecting the atmosphere and life.\n",
       "*   **Complex Geological History:** Earth has a rich and dynamic geological history, recorded in its rocks, which allows scientists to study its evolution and the evolution of life.\n",
       "\n",
       "**Orbital and Rotational Properties:**\n",
       "\n",
       "*   **Optimal Axial Tilt:** Earth's axial tilt (about 23.5 degrees) creates seasons, which are important for ecosystems and agriculture.\n",
       "*   **Relatively Stable Orbit:** While the orbit is not perfectly circular, it's relatively stable, preventing drastic temperature changes that could impact life.\n",
       "*   **Right Speed of Rotation:** The speed of Earth's rotation gives us day and night and also helps create weather patterns.\n",
       "\n",
       "**Life & Biological Factors:**\n",
       "\n",
       "*   **Abundance of Life:** Earth is the only known planet confirmed to harbor life, ranging from microscopic organisms to complex plants and animals.\n",
       "*   **Biodiversity:** The sheer diversity of life on Earth is unparalleled.\n",
       "*   **Complex Ecosystems:** Earth features intricate and interconnected ecosystems.\n",
       "\n",
       "**Other Unique Factors:**\n",
       "\n",
       "*   **Large Moon:** Earth's relatively large moon plays a role in stabilizing Earth's axial tilt and influencing tides.\n",
       "*   **Ozone Layer:** The ozone layer in the stratosphere absorbs harmful ultraviolet radiation from the sun, protecting life on the surface.\n",
       "*   **Presence of an Atmosphere:** Earth's Atmosphere is very unique compared to the atmospheres of other planets. It sustains and protects life.\n",
       "\n",
       "**Important Note:**\n",
       "\n",
       "*   **\"As We Know It\":**  The factors listed above are essential for life *as we currently understand it*. There may be other forms of life that could exist under very different conditions on other planets.\n",
       "*   **Ongoing Discovery:**  We are constantly learning more about other planets, and future discoveries may reveal that some of these features are not entirely unique to Earth, but rather, more common than previously thought.\n",
       "\n"
      ],
      "text/plain": [
       "<IPython.core.display.Markdown object>"
      ]
     },
     "metadata": {},
     "output_type": "display_data"
    }
   ],
   "source": [
    "prompt = \"Generate a list of ways that makes Earth unique compared to other planets\"\n",
    "\n",
    "response = client.models.generate_content(model=MODEL_ID, contents=prompt)\n",
    "display(Markdown(response.text))"
   ]
  },
  {
   "cell_type": "markdown",
   "metadata": {
    "id": "R5kmfZYHZsJ7"
   },
   "source": [
    "### Ask one task at a time"
   ]
  },
  {
   "cell_type": "markdown",
   "metadata": {
    "id": "rsAezxeYZuUN"
   },
   "source": [
    "🛑 Not recommended. The prompt below has two parts to the question that could be asked separately."
   ]
  },
  {
   "cell_type": "code",
   "execution_count": 12,
   "metadata": {
    "id": "ElywPXpuZtWf",
    "tags": []
   },
   "outputs": [
    {
     "data": {
      "text/markdown": [
       "Let's tackle both of these questions!\n",
       "\n",
       "**Best Method of Boiling Water**\n",
       "\n",
       "There's no single \"best\" method, as it depends on your priorities (speed, efficiency, convenience, etc.). Here's a breakdown:\n",
       "\n",
       "*   **Electric Kettle:**\n",
       "    *   **Pros:** Fastest for small to medium amounts (up to ~1.7 liters).  Energy-efficient (usually only heats the water you need). Convenient, often with automatic shut-off.\n",
       "    *   **Cons:** Requires electricity. Limited capacity. Can be bulky to store.\n",
       "\n",
       "*   **Stovetop Kettle:**\n",
       "    *   **Pros:**  Works on any stove type (gas, electric, induction). No electricity required directly (though electric stoves do use electricity).\n",
       "    *   **Cons:**  Can be slower than an electric kettle. Requires monitoring (no automatic shut-off in most cases).  Energy efficiency depends on stove type and kettle material.  Potential for whistle to be annoying.\n",
       "\n",
       "*   **Microwave:**\n",
       "    *   **Pros:** Very convenient for small amounts.  Can be faster than a stovetop, but slower than an electric kettle.\n",
       "    *   **Cons:**  Uneven heating is common, creating superheated pockets of water which can violently erupt when disturbed. **Generally not recommended for boiling water due to the risk of superheating.** Can be less energy efficient than an electric kettle.\n",
       "\n",
       "*   **Stovetop Pot (Saucepan):**\n",
       "    *   **Pros:**  Simple, uses what you already have. Can boil large quantities of water.\n",
       "    *   **Cons:** Slowest method, especially for smaller amounts. Least energy-efficient. Requires monitoring.\n",
       "\n",
       "*   **Induction Cooktop and Pot:**\n",
       "    *   **Pros:** Very fast heating.  Energy-efficient. Precise temperature control.\n",
       "    *   **Cons:** Requires compatible cookware (must be magnetic). Induction cooktops are more expensive than other types.\n",
       "\n",
       "**Summary and Recommendation:**\n",
       "\n",
       "*   **For speed and convenience (and most common use): An electric kettle is usually the best option.**\n",
       "*   **If you don't have electricity or need a large quantity: Stovetop kettle or saucepan.**\n",
       "*   **Avoid microwaves due to the risk of superheating.**\n",
       "*   **If you prioritize efficiency and speed and have the equipment, an induction cooktop is excellent.**\n",
       "\n",
       "**Why is the Sky Blue?**\n",
       "\n",
       "The sky is blue because of a phenomenon called **Rayleigh scattering**.  Here's the simplified explanation:\n",
       "\n",
       "1.  **Sunlight enters the Earth's atmosphere:**  Sunlight is actually made up of all the colors of the rainbow.\n",
       "\n",
       "2.  **Light hits air molecules:** As sunlight travels through the atmosphere, it collides with tiny air molecules (mostly nitrogen and oxygen).\n",
       "\n",
       "3.  **Scattering of light:** This collision causes the light to scatter in different directions.\n",
       "\n",
       "4.  **Blue light is scattered more:** Rayleigh scattering is more effective at scattering shorter wavelengths of light. Blue and violet light have shorter wavelengths than other colors like red, orange, and yellow. Therefore, blue and violet light are scattered much more strongly than other colors.\n",
       "\n",
       "5.  **Why not violet then?**  While violet is scattered even more than blue, there are a couple of reasons we see blue:\n",
       "    *   The sun emits less violet light than blue light.\n",
       "    *   Our eyes are more sensitive to blue light than violet light.\n",
       "\n",
       "6.  **Our eyes perceive blue:**  As a result, we see the sky as blue because blue light has been scattered all over the place and reaches our eyes from all directions.\n",
       "\n",
       "**In summary, the sky is blue because the air molecules in the atmosphere scatter blue light from the sun more than they scatter other colors.**\n",
       "\n",
       "**Bonus:**\n",
       "\n",
       "*   **Sunsets are red/orange:**  When the sun is low on the horizon, sunlight has to travel through more of the atmosphere to reach us.  Blue light is scattered away almost completely during this longer path.  This leaves the longer wavelengths, like red and orange, to reach our eyes, resulting in the beautiful colors of sunsets.\n"
      ],
      "text/plain": [
       "<IPython.core.display.Markdown object>"
      ]
     },
     "metadata": {},
     "output_type": "display_data"
    }
   ],
   "source": [
    "prompt = \"What's the best method of boiling water and why is the sky blue?\"\n",
    "\n",
    "response = client.models.generate_content(model=MODEL_ID, contents=prompt)\n",
    "display(Markdown(response.text))"
   ]
  },
  {
   "cell_type": "markdown",
   "metadata": {
    "id": "ejzahazBZ8vk"
   },
   "source": [
    "✅ Recommended. The prompts below asks one task a time."
   ]
  },
  {
   "cell_type": "code",
   "execution_count": 13,
   "metadata": {
    "id": "C5ckp2F0Z_Ba",
    "tags": []
   },
   "outputs": [
    {
     "data": {
      "text/markdown": [
       "The \"best\" method of boiling water depends on what you're prioritizing: speed, energy efficiency, convenience, or portability. Here's a breakdown of common methods and their pros and cons:\n",
       "\n",
       "**1. Electric Kettle:**\n",
       "\n",
       "*   **Pros:**\n",
       "    *   **Speed:** Generally the fastest way to boil water, especially electric kettles with high wattage.\n",
       "    *   **Convenience:** Easy to use, often with automatic shut-off.\n",
       "    *   **Energy Efficiency:** Can be very efficient because they only heat the water you need and have good insulation.\n",
       "    *   **Precision:** Some kettles allow you to select specific temperatures, useful for tea.\n",
       "*   **Cons:**\n",
       "    *   **Requires Electricity:** Need access to a power outlet.\n",
       "    *   **Cost:** Can be more expensive than other methods upfront.\n",
       "    *   **Can be Noisy:** Some kettles are louder than others.\n",
       "\n",
       "**2. Stovetop Kettle:**\n",
       "\n",
       "*   **Pros:**\n",
       "    *   **No Electricity Required:** Works on gas, electric, or induction stovetops.\n",
       "    *   **Durability:** Can last a very long time.\n",
       "    *   **Classic Design:** Many people prefer the traditional look.\n",
       "*   **Cons:**\n",
       "    *   **Slower than Electric:** Typically takes longer to boil compared to an electric kettle.\n",
       "    *   **Requires Monitoring:** Need to watch it to prevent it from boiling dry or whistling too long.\n",
       "    *   **Less Energy Efficient:** Less insulated than electric kettles, so more heat is lost.\n",
       "\n",
       "**3. Microwave:**\n",
       "\n",
       "*   **Pros:**\n",
       "    *   **Speed (Small Amounts):** Can be quick for boiling small amounts of water.\n",
       "    *   **Convenience:** Widely available in most homes and offices.\n",
       "*   **Cons:**\n",
       "    *   **Uneven Heating:** Can cause \"superheating,\" where the water boils violently when disturbed, potentially causing burns.\n",
       "    *   **Not Ideal for Large Amounts:** Less efficient for boiling larger quantities.\n",
       "    *   **Taste:** Some people find microwaved water has a slightly different taste.\n",
       "\n",
       "**4. Stovetop Pot:**\n",
       "\n",
       "*   **Pros:**\n",
       "    *   **Versatile:** Can be used for anything, not just boiling water.\n",
       "    *   **No Special Equipment Needed:** You likely already have a pot.\n",
       "*   **Cons:**\n",
       "    *   **Slowest Method:** Takes the longest to boil water compared to other methods.\n",
       "    *   **Least Energy Efficient:** Lots of heat loss.\n",
       "    *   **Requires Monitoring:** Need to watch it to prevent it from boiling dry.\n",
       "\n",
       "**5. Camping Stove (e.g., Gas or Liquid Fuel):**\n",
       "\n",
       "*   **Pros:**\n",
       "    *   **Portability:** Ideal for camping and outdoor activities.\n",
       "*   **Cons:**\n",
       "    *   **Fuel Required:** Need to carry fuel.\n",
       "    *   **Slower Than Electric Kettle:** Typically slower than an electric kettle.\n",
       "    *   **Less Control:** Temperature control can be less precise.\n",
       "    *   **Safety Concerns:** Requires caution to avoid fire hazards.\n",
       "\n",
       "**Here's a quick summary based on priorities:**\n",
       "\n",
       "*   **Fastest:** Electric Kettle\n",
       "*   **Most Energy Efficient:** Electric Kettle\n",
       "*   **Most Convenient:** Electric Kettle (for home) / Microwave (for quick, small amounts)\n",
       "*   **Most Portable:** Camping Stove\n",
       "*   **Most Versatile:** Stovetop Pot\n",
       "*   **No Electricity Required:** Stovetop Kettle\n",
       "\n",
       "**In conclusion, for most everyday situations, the **electric kettle** is often the best all-around choice due to its speed, convenience, and energy efficiency.  However, the \"best\" choice really depends on *your* specific needs and circumstances.**\n"
      ],
      "text/plain": [
       "<IPython.core.display.Markdown object>"
      ]
     },
     "metadata": {},
     "output_type": "display_data"
    }
   ],
   "source": [
    "prompt = \"What's the best method of boiling water?\"\n",
    "\n",
    "response = client.models.generate_content(model=MODEL_ID, contents=prompt)\n",
    "display(Markdown(response.text))"
   ]
  },
  {
   "cell_type": "code",
   "execution_count": 14,
   "metadata": {
    "id": "KwUzhud4aA89",
    "tags": []
   },
   "outputs": [
    {
     "data": {
      "text/markdown": [
       "The sky is blue because of a phenomenon called **Rayleigh scattering**. Here's the breakdown:\n",
       "\n",
       "*   **Sunlight is made of all colors:** White sunlight is actually a mixture of all the colors of the rainbow.\n",
       "\n",
       "*   **Light travels in waves:** Light travels in waves, and different colors have different wavelengths. Blue and violet light have shorter wavelengths, while red light has longer wavelengths.\n",
       "\n",
       "*   **Scattering by air molecules:** As sunlight enters the Earth's atmosphere, it collides with tiny air molecules (mostly nitrogen and oxygen). These collisions cause the light to scatter in different directions.\n",
       "\n",
       "*   **Rayleigh scattering is wavelength-dependent:** Rayleigh scattering is more effective at scattering shorter wavelengths (blue and violet) than longer wavelengths (red and orange). This means blue and violet light are scattered much more strongly in all directions throughout the atmosphere.\n",
       "\n",
       "*   **Why we see blue instead of violet:** While violet light is scattered even more than blue light, there are a couple of reasons why we perceive the sky as blue:\n",
       "    *   The sun emits less violet light than blue light.\n",
       "    *   Our eyes are more sensitive to blue light than violet light.\n",
       "\n",
       "So, because blue light is scattered more effectively throughout the atmosphere, it reaches our eyes from all directions, making the sky appear blue.\n",
       "\n",
       "**In summary:**\n",
       "\n",
       "Sunlight hits the atmosphere -> Blue light is scattered more than other colors -> Scattered blue light reaches our eyes from all directions -> We see a blue sky.\n"
      ],
      "text/plain": [
       "<IPython.core.display.Markdown object>"
      ]
     },
     "metadata": {},
     "output_type": "display_data"
    }
   ],
   "source": [
    "prompt = \"Why is the sky blue?\"\n",
    "\n",
    "response = client.models.generate_content(model=MODEL_ID, contents=prompt)\n",
    "display(Markdown(response.text))"
   ]
  },
  {
   "cell_type": "markdown",
   "metadata": {
    "id": "PJIL2RTQaGcT"
   },
   "source": [
    "### Watch out for hallucinations"
   ]
  },
  {
   "cell_type": "markdown",
   "metadata": {
    "id": "8Y8kYxrSaHE9"
   },
   "source": [
    "Although LLMs have been trained on a large amount of data, they can generate text containing statements not grounded in truth or reality; these responses from the LLM are often referred to as \"hallucinations\" due to their limited memorization capabilities. Note that simply prompting the LLM to provide a citation isn't a fix to this problem, as there are instances of LLMs providing false or inaccurate citations. Dealing with hallucinations is a fundamental challenge of LLMs and an ongoing research area, so it is important to be cognizant that LLMs may seem to give you confident, correct-sounding statements that are in fact incorrect.\n",
    "\n",
    "Note that if you intend to use LLMs for the creative use cases, hallucinating could actually be quite useful."
   ]
  },
  {
   "cell_type": "markdown",
   "metadata": {
    "id": "8NY5nAGeaJYS"
   },
   "source": [
    "Try the prompt like the one below repeatedly. We set the temperature to `1.0` so that it takes more risks in its choices. It's possible that it may provide an inaccurate, but confident answer."
   ]
  },
  {
   "cell_type": "code",
   "execution_count": 15,
   "metadata": {
    "id": "QALPjEILaM62",
    "tags": []
   },
   "outputs": [
    {
     "data": {
      "text/markdown": [
       "Today is Sunday, September 3, 2023.\n"
      ],
      "text/plain": [
       "<IPython.core.display.Markdown object>"
      ]
     },
     "metadata": {},
     "output_type": "display_data"
    }
   ],
   "source": [
    "generation_config = GenerateContentConfig(temperature=1.0)\n",
    "\n",
    "prompt = \"What day is it today?\"\n",
    "\n",
    "response = client.models.generate_content(model=MODEL_ID, contents=prompt)\n",
    "display(Markdown(response.text))"
   ]
  },
  {
   "cell_type": "markdown",
   "metadata": {
    "id": "BRkwzbgRbhKt"
   },
   "source": [
    "Since LLMs do not have access to real-time information without further integrations, you may have noticed it hallucinates what day it is today in some of the outputs."
   ]
  },
  {
   "cell_type": "markdown",
   "metadata": {},
   "source": [
    "## Reduce Output Variability"
   ]
  },
  {
   "cell_type": "markdown",
   "metadata": {
    "id": "3c811e310d02"
   },
   "source": [
    "### Using system instructions to guardrail the model from irrelevant responses\n",
    "\n",
    "How can we attempt to reduce the chances of irrelevant responses and hallucinations?\n",
    "\n",
    "One way is to provide the LLM with [system instructions](https://cloud.google.com/vertex-ai/generative-ai/docs/multimodal/send-chat-prompts-gemini#system-instructions).\n",
    "\n",
    "Let's see how system instructions works and how you can use them to reduce hallucinations or irrelevant questions for a travel chatbot.\n",
    "\n",
    "Suppose we ask a simple question about one of Italy's most famous tourist spots."
   ]
  },
  {
   "cell_type": "code",
   "execution_count": 16,
   "metadata": {
    "id": "rB6zJU76biFK",
    "tags": []
   },
   "outputs": [
    {
     "data": {
      "text/markdown": [
       "The best place for sightseeing in Milan, Italy is the Piazza del Duomo. It is home to the Duomo di Milano, one of the largest cathedrals in the world.\n"
      ],
      "text/plain": [
       "<IPython.core.display.Markdown object>"
      ]
     },
     "metadata": {},
     "output_type": "display_data"
    }
   ],
   "source": [
    "generation_config = GenerateContentConfig(temperature=1.0)\n",
    "\n",
    "chat = client.chats.create(\n",
    "    model=MODEL_ID,\n",
    "    config=GenerateContentConfig(\n",
    "        system_instruction=[\n",
    "            \"Hello! You are an AI chatbot for a travel web site.\",\n",
    "            \"Your mission is to provide helpful queries for travelers.\",\n",
    "            \"Remember that before you answer a question, you must check to see if it complies with your mission.\",\n",
    "            \"If not, you can say, Sorry I can't answer that question.\",\n",
    "        ]\n",
    "    ),\n",
    ")\n",
    "\n",
    "prompt = \"What is the best place for sightseeing in Milan, Italy?\"\n",
    "\n",
    "response = chat.send_message(prompt)\n",
    "display(Markdown(response.text))"
   ]
  },
  {
   "cell_type": "markdown",
   "metadata": {
    "id": "WZa-Qcf9cF4A"
   },
   "source": [
    "Now let us pretend to be a user asks the chatbot a question that is unrelated to travel."
   ]
  },
  {
   "cell_type": "code",
   "execution_count": 17,
   "metadata": {
    "id": "AZKBIDr2cGnu",
    "tags": []
   },
   "outputs": [
    {
     "data": {
      "text/markdown": [
       "The Piazza del Duomo is one of the best places for sightseeing in Milan.\n"
      ],
      "text/plain": [
       "<IPython.core.display.Markdown object>"
      ]
     },
     "metadata": {},
     "output_type": "display_data"
    }
   ],
   "source": [
    "prompt = \"What is the best place for sightseeing in Milan, Italy?\"\n",
    "\n",
    "response = chat.send_message(prompt)\n",
    "display(Markdown(response.text))"
   ]
  },
  {
   "cell_type": "markdown",
   "metadata": {
    "id": "JiUYIhwpctCy"
   },
   "source": [
    "You can see that this way, a guardrail in the prompt prevented the chatbot from veering off course."
   ]
  },
  {
   "cell_type": "markdown",
   "metadata": {
    "id": "ZuuDhA37cvmP"
   },
   "source": [
    "### Turn generative tasks into classification tasks to reduce output variability"
   ]
  },
  {
   "cell_type": "markdown",
   "metadata": {
    "id": "kUCUrsUzczmb"
   },
   "source": [
    "#### Generative tasks lead to higher output variability"
   ]
  },
  {
   "cell_type": "markdown",
   "metadata": {
    "id": "a1xASHAkc46n"
   },
   "source": [
    "The prompt below results in an open-ended response, useful for brainstorming, but response is highly variable."
   ]
  },
  {
   "cell_type": "code",
   "execution_count": 18,
   "metadata": {
    "id": "nPfXQWIacwRf",
    "tags": []
   },
   "outputs": [
    {
     "data": {
      "text/markdown": [
       "Okay, based on your level (high school student) and assuming you want to improve your skills, here are a few programming activities with varying focuses, along with why they're beneficial and how to approach them:\n",
       "\n",
       "**1.  A Text-Based Adventure Game (Good for: Logic, Conditionals, String Manipulation)**\n",
       "\n",
       "*   **Why it's good:**  This is a classic project that helps you think about program flow, user input, and how to create interactive experiences. It's also a great way to solidify your understanding of `if/else` statements, loops, and string manipulation.\n",
       "*   **Languages:** Python is ideal for this due to its readability and ease of string handling.  JavaScript (using `prompt()` and `console.log()`) is also viable for a browser-based version.\n",
       "*   **How to approach it:**\n",
       "    *   **Plan it out:**  Draw a simple map of your game world.  Think about the rooms, items, and puzzles.  List the possible actions a player can take (e.g., \"go north,\" \"take sword,\" \"examine painting\").\n",
       "    *   **Start small:** Focus on implementing the core mechanics first.  Create a single room and allow the player to move around in it.\n",
       "    *   **Add features incrementally:**  Once you have basic movement, add items, puzzles, and enemies.\n",
       "    *   **Example (Python):**\n",
       "\n",
       "```python\n",
       "def main():\n",
       "    room = \"start\"\n",
       "    while True:\n",
       "        if room == \"start\":\n",
       "            print(\"You are in a dimly lit room.  There's a door to the north and a chest to the east.\")\n",
       "            action = input(\"> \").lower()\n",
       "\n",
       "            if \"north\" in action:\n",
       "                room = \"hallway\"\n",
       "            elif \"east\" in action:\n",
       "                print(\"The chest is locked.\")\n",
       "            elif \"quit\" in action:\n",
       "                break\n",
       "            else:\n",
       "                print(\"I don't understand.\")\n",
       "        elif room == \"hallway\":\n",
       "            print(\"You are in a hallway. There's a door to the south and a monster to the west!\")\n",
       "            action = input(\"> \").lower()\n",
       "\n",
       "            if \"south\" in action:\n",
       "                room = \"start\"\n",
       "            elif \"west\" in action:\n",
       "                print(\"The monster eats you!\")\n",
       "                break\n",
       "            elif \"quit\" in action:\n",
       "                break\n",
       "            else:\n",
       "                print(\"I don't understand.\")\n",
       "        else:\n",
       "            print(\"Error: Invalid room.\")\n",
       "            break\n",
       "\n",
       "if __name__ == \"__main__\":\n",
       "    main()\n",
       "```\n",
       "\n",
       "*   **Challenge Yourself:**\n",
       "    *   Add an inventory system.\n",
       "    *   Implement combat.\n",
       "    *   Create puzzles that require logic and problem-solving.\n",
       "    *   Use functions to organize your code.\n",
       "    *   Save the game state to a file.\n",
       "\n",
       "**2. A Simple Calculator Application (Good for: GUI, Event Handling, Basic Arithmetic)**\n",
       "\n",
       "*   **Why it's good:** If you are not comfortable with the command line and prefer a Graphical User Interface (GUI), this is a great choice.  It introduces you to the basics of GUI programming, event handling (button clicks), and data type conversions.\n",
       "*   **Languages:** Python (with Tkinter or PyQt), Java (with Swing or JavaFX), JavaScript (with HTML/CSS for the interface).  Python (Tkinter) is often the easiest for beginners.\n",
       "*   **How to approach it:**\n",
       "    *   **Design the layout:**  Sketch out the calculator's buttons and display.\n",
       "    *   **Create the GUI:** Use the GUI library to create the buttons and display area.\n",
       "    *   **Implement event handling:**  Write code to respond to button clicks.\n",
       "    *   **Handle arithmetic operations:**  Implement the logic for addition, subtraction, multiplication, division, etc.\n",
       "    *   **Error handling:**  Deal with invalid input (e.g., dividing by zero).\n",
       "\n",
       "**3. A Basic Data Analysis Script (Good for: Data Structures, File I/O, Basic Statistics)**\n",
       "\n",
       "*   **Why it's good:** This is a great intro to working with real-world data.  It helps you learn how to read data from files, store it in appropriate data structures (lists, dictionaries), and perform basic analysis.\n",
       "*   **Languages:** Python (with the `csv` module for reading CSV files) is excellent for this.\n",
       "*   **How to approach it:**\n",
       "    *   **Find a dataset:**  Look for publicly available datasets online.  Examples include:\n",
       "        *   CSV files of weather data.\n",
       "        *   List of countries with populations.\n",
       "        *   Movie data (title, genre, rating).\n",
       "    *   **Read the data:**  Use the appropriate library to read the data from the file into your program.\n",
       "    *   **Store the data:**  Use lists or dictionaries to store the data in memory.\n",
       "    *   **Perform analysis:**  Write code to answer questions about the data (e.g., \"What is the average population of countries in Europe?\", \"What is the most common movie genre?\").\n",
       "\n",
       "**4.  A Number Guessing Game (Good for: Loops, Random Numbers, User Input)**\n",
       "\n",
       "*   **Why it's good:** This is a simple but effective exercise for practicing fundamental programming concepts.  It involves generating random numbers, getting user input, using loops, and providing feedback.\n",
       "*   **Languages:** Almost any language works well for this (Python, Java, C++, JavaScript).\n",
       "*   **How to approach it:**\n",
       "    *   **Generate a random number:** Use the language's random number generator to pick a secret number.\n",
       "    *   **Get user input:** Prompt the user to enter their guess.\n",
       "    *   **Compare the guess:**  Tell the user if their guess is too high or too low.\n",
       "    *   **Repeat until correct:**  Use a loop to allow the user to guess multiple times until they get the correct answer.\n",
       "    *   **Example (Python):**\n",
       "\n",
       "```python\n",
       "import random\n",
       "\n",
       "def main():\n",
       "    number = random.randint(1, 100)\n",
       "    guesses = 0\n",
       "    print(\"I'm thinking of a number between 1 and 100.\")\n",
       "\n",
       "    while True:\n",
       "        try:\n",
       "            guess = int(input(\"Take a guess: \"))\n",
       "        except ValueError:\n",
       "            print(\"Invalid input. Please enter a number.\")\n",
       "            continue\n",
       "\n",
       "        guesses += 1\n",
       "\n",
       "        if guess < number:\n",
       "            print(\"Too low!\")\n",
       "        elif guess > number:\n",
       "            print(\"Too high!\")\n",
       "        else:\n",
       "            print(f\"Congratulations! You guessed the number in {guesses} guesses.\")\n",
       "            break\n",
       "\n",
       "if __name__ == \"__main__\":\n",
       "    main()\n",
       "```\n",
       "\n",
       "**General Tips for Success:**\n",
       "\n",
       "*   **Choose a language you're comfortable with (or want to learn):** Don't try to tackle a complex project in a language you're completely new to.\n",
       "*   **Break down the problem:**  Large projects can feel overwhelming.  Divide them into smaller, manageable tasks.\n",
       "*   **Test frequently:**  Test your code after writing each small piece.  This helps you catch errors early.\n",
       "*   **Use Google and Stack Overflow:**  Don't be afraid to search for help online.  These resources are invaluable for programmers.\n",
       "*   **Comment your code:**  Write comments to explain what your code is doing.  This will help you understand it later, and it will also help others understand it.\n",
       "*   **Practice consistently:**  The more you code, the better you'll become.\n",
       "*   **Have fun!** Programming should be enjoyable.  Choose projects that interest you.\n",
       "\n",
       "Good luck, and happy coding!  Let me know if you have any other questions.\n"
      ],
      "text/plain": [
       "<IPython.core.display.Markdown object>"
      ]
     },
     "metadata": {},
     "output_type": "display_data"
    }
   ],
   "source": [
    "prompt = \"I'm a high school student. Recommend me a programming activity to improve my skills.\"\n",
    "\n",
    "response = client.models.generate_content(model=MODEL_ID, contents=prompt)\n",
    "display(Markdown(response.text))"
   ]
  },
  {
   "cell_type": "markdown",
   "metadata": {
    "id": "iAmm9wPYc_1o"
   },
   "source": [
    "#### Classification tasks reduces output variability"
   ]
  },
  {
   "cell_type": "markdown",
   "metadata": {
    "id": "VvRpK_0GdCpf"
   },
   "source": [
    "The prompt below results in a choice and may be useful if you want the output to be easier to control."
   ]
  },
  {
   "cell_type": "code",
   "execution_count": 19,
   "metadata": {
    "id": "kYDKh0r2dAqo",
    "tags": []
   },
   "outputs": [
    {
     "data": {
      "text/markdown": [
       "For a high school student looking to learn a programming language, I strongly recommend **(a) learn Python** followed by **(b) learn JavaScript**. Here's a breakdown of why, along with why Fortran is less ideal:\n",
       "\n",
       "**1. Python: The Best Choice for a Beginner**\n",
       "\n",
       "*   **Easy to Learn and Read:** Python's syntax is designed to be clear and readable, resembling plain English. This makes it much easier to grasp the fundamental concepts of programming without getting bogged down in complex syntax.\n",
       "*   **Versatile:** Python is used in a wide range of fields, including:\n",
       "    *   **Data Science:** Working with data, analysis, machine learning.  A huge field!\n",
       "    *   **Web Development (Backend):** Building the server-side logic of websites.\n",
       "    *   **Scripting and Automation:** Automating tasks on your computer.\n",
       "    *   **Game Development:** Simple games using libraries like Pygame.\n",
       "    *   **Education:** Many universities and online courses use Python as the introductory language.\n",
       "*   **Large and Supportive Community:** A massive community means tons of tutorials, documentation, and online help available if you get stuck. Stack Overflow is your friend!\n",
       "*   **Excellent Libraries and Frameworks:** Python has libraries for almost anything you want to do, making complex tasks easier to accomplish. For example:\n",
       "    *   `NumPy` for numerical computing.\n",
       "    *   `Pandas` for data analysis.\n",
       "    *   `Flask` and `Django` for web development.\n",
       "*   **Career Opportunities:**  Skills in Python are in high demand in the job market.\n",
       "\n",
       "**Why Python for High School?**\n",
       "\n",
       "*   **You can quickly start writing useful programs.** Even with a basic understanding, you can create things like:\n",
       "    *   Simple calculators.\n",
       "    *   Text-based games.\n",
       "    *   Scripts to automate repetitive tasks.\n",
       "*   **It provides a solid foundation for learning other languages later on.** The core concepts you learn in Python (variables, loops, conditional statements, functions) apply to almost every other programming language.\n",
       "\n",
       "**2. JavaScript: Essential for Web Development and More**\n",
       "\n",
       "*   **Front-End Web Development:** JavaScript is *the* language of the web browser. It's what makes websites interactive and dynamic.  You need it to create engaging user interfaces.\n",
       "*   **Back-End Web Development (with Node.js):**  You can also use JavaScript on the server-side with Node.js, creating full-stack web applications.\n",
       "*   **Interactivity:** JavaScript allows you to respond to user actions on a website (e.g., clicks, form submissions, mouse movements).\n",
       "*   **Ubiquitous:**  Every web browser supports JavaScript, so your code will run on almost any device.\n",
       "*   **Large and Active Community:** Like Python, JavaScript has a huge community and tons of resources.\n",
       "*   **Frameworks and Libraries:** React, Angular, and Vue.js are popular JavaScript frameworks that simplify web development.\n",
       "*   **Game Development:** You can use JavaScript to build browser-based games.\n",
       "\n",
       "**Why JavaScript as a Second Language (or after Python)?**\n",
       "\n",
       "*   **If you're interested in web development, it's essential.**  You can't build modern, interactive websites without JavaScript.\n",
       "*   **It complements Python.**  You can use Python for the backend of a website and JavaScript for the frontend.\n",
       "*   **It exposes you to different programming paradigms.**  JavaScript is a multi-paradigm language (e.g., it supports both functional and object-oriented programming).\n",
       "\n",
       "**3. Fortran: A Niche Language (Generally Not Recommended for Beginners)**\n",
       "\n",
       "*   **Scientific and Engineering Computing:** Fortran is traditionally used in scientific and engineering applications, particularly for numerical computation and high-performance computing.\n",
       "*   **Legacy Code:** Much of the existing scientific code is written in Fortran.\n",
       "\n",
       "**Why Fortran is Not Ideal for a High School Student (Unless You Have a Specific Goal):**\n",
       "\n",
       "*   **Steeper Learning Curve:** The syntax of Fortran can be less intuitive for beginners compared to Python or JavaScript.\n",
       "*   **Less Versatile:** Fortran's focus on scientific computing makes it less applicable to other areas of programming, such as web development, general scripting, or app development.\n",
       "*   **Smaller Community:** The Fortran community is smaller than Python's or JavaScript's.\n",
       "*   **Limited Job Opportunities:** Unless you're specifically aiming for a career in scientific or engineering computing, Fortran is not a highly sought-after skill.\n",
       "\n",
       "**In Summary:**\n",
       "\n",
       "*   **Start with Python:** It's the easiest to learn, most versatile, and has the biggest community.\n",
       "*   **Then, learn JavaScript:**  If you're interested in web development or want to explore more advanced programming concepts.\n",
       "*   **Skip Fortran for now:** Unless you have a very specific reason related to science or engineering.  You can always learn it later if needed.\n",
       "\n",
       "Good luck with your programming journey! Have fun!\n"
      ],
      "text/plain": [
       "<IPython.core.display.Markdown object>"
      ]
     },
     "metadata": {},
     "output_type": "display_data"
    }
   ],
   "source": [
    "prompt = \"\"\"I'm a high school student. Which of these activities do you suggest and why:\n",
    "a) learn Python\n",
    "b) learn JavaScript\n",
    "c) learn Fortran\n",
    "\"\"\"\n",
    "\n",
    "response = client.models.generate_content(model=MODEL_ID, contents=prompt)\n",
    "display(Markdown(response.text))"
   ]
  },
  {
   "cell_type": "markdown",
   "metadata": {
    "id": "iTd60b1GdIsx"
   },
   "source": [
    "### Improve response quality by including examples"
   ]
  },
  {
   "cell_type": "markdown",
   "metadata": {
    "id": "yJi44NejdJYE"
   },
   "source": [
    "Another way to improve response quality is to add examples in your prompt. The LLM learns in-context from the examples on how to respond. Typically, one to five examples (shots) are enough to improve the quality of responses. Including too many examples can cause the model to over-fit the data and reduce the quality of responses.\n",
    "\n",
    "Similar to classical model training, the quality and distribution of the examples is very important. Pick examples that are representative of the scenarios that you need the model to learn, and keep the distribution of the examples (e.g. number of examples per class in the case of classification) aligned with your actual distribution."
   ]
  },
  {
   "cell_type": "markdown",
   "metadata": {
    "id": "sMbLginWdOKs"
   },
   "source": [
    "#### Zero-shot prompt"
   ]
  },
  {
   "cell_type": "markdown",
   "metadata": {
    "id": "Crh2Loi2dQ0v"
   },
   "source": [
    "Below is an example of zero-shot prompting, where you don't provide any examples to the LLM within the prompt itself."
   ]
  },
  {
   "cell_type": "code",
   "execution_count": 20,
   "metadata": {
    "id": "-7myRc-SdTQ4",
    "tags": []
   },
   "outputs": [
    {
     "data": {
      "text/markdown": [
       "Sentiment: **Positive**\n"
      ],
      "text/plain": [
       "<IPython.core.display.Markdown object>"
      ]
     },
     "metadata": {},
     "output_type": "display_data"
    }
   ],
   "source": [
    "prompt = \"\"\"Decide whether a Tweet's sentiment is positive, neutral, or negative.\n",
    "\n",
    "Tweet: I loved the new YouTube video you made!\n",
    "Sentiment:\n",
    "\"\"\"\n",
    "\n",
    "response = client.models.generate_content(model=MODEL_ID, contents=prompt)\n",
    "display(Markdown(response.text))"
   ]
  },
  {
   "cell_type": "markdown",
   "metadata": {
    "id": "ucRtPn9SdL64"
   },
   "source": [
    "#### One-shot prompt"
   ]
  },
  {
   "cell_type": "markdown",
   "metadata": {
    "id": "rs0gQH2vdYBi"
   },
   "source": [
    "Below is an example of one-shot prompting, where you provide one example to the LLM within the prompt to give some guidance on what type of response you want."
   ]
  },
  {
   "cell_type": "code",
   "execution_count": 21,
   "metadata": {
    "id": "iEq-KxGYdaT5",
    "tags": []
   },
   "outputs": [
    {
     "data": {
      "text/markdown": [
       "Sentiment: negative\n"
      ],
      "text/plain": [
       "<IPython.core.display.Markdown object>"
      ]
     },
     "metadata": {},
     "output_type": "display_data"
    }
   ],
   "source": [
    "prompt = \"\"\"Decide whether a Tweet's sentiment is positive, neutral, or negative.\n",
    "\n",
    "Tweet: I loved the new YouTube video you made!\n",
    "Sentiment: positive\n",
    "\n",
    "Tweet: That was awful. Super boring 😠\n",
    "Sentiment:\n",
    "\"\"\"\n",
    "\n",
    "response = client.models.generate_content(model=MODEL_ID, contents=prompt)\n",
    "display(Markdown(response.text))"
   ]
  },
  {
   "cell_type": "markdown",
   "metadata": {
    "id": "JnKLjJzmdfL_"
   },
   "source": [
    "#### Few-shot prompt"
   ]
  },
  {
   "cell_type": "markdown",
   "metadata": {
    "id": "6Zv-9F5OdgI_"
   },
   "source": [
    "Below is an example of few-shot prompting, where you provide a few examples to the LLM within the prompt to give some guidance on what type of response you want."
   ]
  },
  {
   "cell_type": "code",
   "execution_count": 22,
   "metadata": {
    "id": "u37P9tG4dk9S",
    "tags": []
   },
   "outputs": [
    {
     "data": {
      "text/markdown": [
       "Sentiment: positive\n"
      ],
      "text/plain": [
       "<IPython.core.display.Markdown object>"
      ]
     },
     "metadata": {},
     "output_type": "display_data"
    }
   ],
   "source": [
    "prompt = \"\"\"Decide whether a Tweet's sentiment is positive, neutral, or negative.\n",
    "\n",
    "Tweet: I loved the new YouTube video you made!\n",
    "Sentiment: positive\n",
    "\n",
    "Tweet: That was awful. Super boring 😠\n",
    "Sentiment: negative\n",
    "\n",
    "Tweet: Something surprised me about this video - it was actually original. It was not the same old recycled stuff that I always see. Watch it - you will not regret it.\n",
    "Sentiment:\n",
    "\"\"\"\n",
    "\n",
    "response = client.models.generate_content(model=MODEL_ID, contents=prompt)\n",
    "display(Markdown(response.text))"
   ]
  },
  {
   "cell_type": "markdown",
   "metadata": {
    "id": "wDMD3xb2dvX6"
   },
   "source": [
    "#### Choosing between zero-shot, one-shot, few-shot prompting methods"
   ]
  },
  {
   "cell_type": "markdown",
   "metadata": {
    "id": "s92W0YpNdxJp"
   },
   "source": [
    "Which prompt technique to use will solely depends on your goal. The zero-shot prompts are more open-ended and can give you creative answers, while one-shot and few-shot prompts teach the model how to behave so you can get more predictable answers that are consistent with the examples provided."
   ]
  },
  {
   "cell_type": "code",
   "execution_count": null,
   "metadata": {},
   "outputs": [],
   "source": []
  },
  {
   "cell_type": "code",
   "execution_count": null,
   "metadata": {},
   "outputs": [],
   "source": []
  }
 ],
 "metadata": {
  "colab": {
   "name": "intro_prompt_design.ipynb",
   "toc_visible": true
  },
  "environment": {
   "kernel": "conda-base-py",
   "name": "workbench-notebooks.m129",
   "type": "gcloud",
   "uri": "us-docker.pkg.dev/deeplearning-platform-release/gcr.io/workbench-notebooks:m129"
  },
  "kernelspec": {
   "display_name": "Python 3 (ipykernel) (Local)",
   "language": "python",
   "name": "conda-base-py"
  },
  "language_info": {
   "codemirror_mode": {
    "name": "ipython",
    "version": 3
   },
   "file_extension": ".py",
   "mimetype": "text/x-python",
   "name": "python",
   "nbconvert_exporter": "python",
   "pygments_lexer": "ipython3",
   "version": "3.10.16"
  }
 },
 "nbformat": 4,
 "nbformat_minor": 4
}
